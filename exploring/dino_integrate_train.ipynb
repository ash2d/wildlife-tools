{
 "cells": [
  {
   "cell_type": "code",
   "execution_count": 1,
   "id": "4d8895aa",
   "metadata": {},
   "outputs": [
    {
     "name": "stderr",
     "output_type": "stream",
     "text": [
      "/home/users/dash/guppies/embeddings/wildlife-tools/.venv/lib/python3.12/site-packages/tqdm/auto.py:21: TqdmWarning: IProgress not found. Please update jupyter and ipywidgets. See https://ipywidgets.readthedocs.io/en/stable/user_install.html\n",
      "  from .autonotebook import tqdm as notebook_tqdm\n"
     ]
    }
   ],
   "source": [
    "import pandas as pd\n",
    "import numpy as np\n",
    "import timm\n",
    "import torchvision.transforms as T\n",
    "import torch\n",
    "import itertools\n",
    "from torch.optim import SGD\n",
    "from transformers import AutoImageProcessor, AutoModel\n",
    "import torch.nn as nn\n",
    "import os\n",
    "\n",
    "from wildlife_tools.train import ArcFaceLoss, BasicTrainer, set_seed, TripletLoss, InfoNCELoss\n",
    "from wildlife_tools.features import DeepFeatures\n",
    "from wildlife_tools.data import ImageDataset\n"
   ]
  },
  {
   "cell_type": "code",
   "execution_count": 3,
   "id": "66faab7f",
   "metadata": {},
   "outputs": [
    {
     "name": "stdout",
     "output_type": "stream",
     "text": [
      "304\n"
     ]
    },
    {
     "data": {
      "text/html": [
       "<div>\n",
       "<style scoped>\n",
       "    .dataframe tbody tr th:only-of-type {\n",
       "        vertical-align: middle;\n",
       "    }\n",
       "\n",
       "    .dataframe tbody tr th {\n",
       "        vertical-align: top;\n",
       "    }\n",
       "\n",
       "    .dataframe thead th {\n",
       "        text-align: right;\n",
       "    }\n",
       "</style>\n",
       "<table border=\"1\" class=\"dataframe\">\n",
       "  <thead>\n",
       "    <tr style=\"text-align: right;\">\n",
       "      <th></th>\n",
       "      <th>identity</th>\n",
       "      <th>path</th>\n",
       "      <th>date</th>\n",
       "    </tr>\n",
       "  </thead>\n",
       "  <tbody>\n",
       "    <tr>\n",
       "      <th>0</th>\n",
       "      <td>63498</td>\n",
       "      <td>1706/Lower Lalaja/29A/DCIM/121D7100/DSC_8870.png</td>\n",
       "      <td>2017-06-29</td>\n",
       "    </tr>\n",
       "    <tr>\n",
       "      <th>1</th>\n",
       "      <td>63498</td>\n",
       "      <td>1803/LL/26B/123D7100/DSC_3857.png</td>\n",
       "      <td>2018-03-26</td>\n",
       "    </tr>\n",
       "    <tr>\n",
       "      <th>2</th>\n",
       "      <td>63498</td>\n",
       "      <td>1804/LL/27B/DSC_5389.png</td>\n",
       "      <td>2018-04-27</td>\n",
       "    </tr>\n",
       "    <tr>\n",
       "      <th>3</th>\n",
       "      <td>63498</td>\n",
       "      <td>1802/LL/26B/DSC_0428.png</td>\n",
       "      <td>2018-02-26</td>\n",
       "    </tr>\n",
       "    <tr>\n",
       "      <th>4</th>\n",
       "      <td>63498</td>\n",
       "      <td>1806/LL/28A/100D7100/DSC_9352.png</td>\n",
       "      <td>2018-06-28</td>\n",
       "    </tr>\n",
       "  </tbody>\n",
       "</table>\n",
       "</div>"
      ],
      "text/plain": [
       "   identity                                              path        date\n",
       "0     63498  1706/Lower Lalaja/29A/DCIM/121D7100/DSC_8870.png  2017-06-29\n",
       "1     63498                 1803/LL/26B/123D7100/DSC_3857.png  2018-03-26\n",
       "2     63498                          1804/LL/27B/DSC_5389.png  2018-04-27\n",
       "3     63498                          1802/LL/26B/DSC_0428.png  2018-02-26\n",
       "4     63498                 1806/LL/28A/100D7100/DSC_9352.png  2018-06-28"
      ]
     },
     "execution_count": 3,
     "metadata": {},
     "output_type": "execute_result"
    }
   ],
   "source": [
    "\n",
    "\n",
    "# Load metadata\n",
    "PT_CSV = '/home/users/dash/guppies/embeddings/wildlife-tools/exploring/csvs/top_10_individuals.csv'\n",
    "# PT_CSV = '/home/users/dash/guppies/embeddings/wildlife-tools/exploring/csvs/no_id.csv'\n",
    "PT_images = '/gws/nopw/j04/iecdt/dash/cropped_images/id/w_random_masks'\n",
    "PT_storage = '/gws/nopw/j04/iecdt/dash/embeddings'\n",
    "df = pd.read_csv(PT_CSV)\n",
    "# df['path'] = df['path'].str.replace('.JPG','.png', case=False)\n",
    "# df.to_csv(PT_CSV, index=False)\n",
    "print(len(df))\n",
    "df.head()\n"
   ]
  },
  {
   "cell_type": "code",
   "execution_count": 3,
   "id": "9d1f6feb",
   "metadata": {},
   "outputs": [
    {
     "name": "stdout",
     "output_type": "stream",
     "text": [
      "100000\n",
      "                    path  identity\n",
      "0  0803/DSC_15480201.png       467\n",
      "1  0803/DSC_15500202.png       822\n",
      "2  0803/DSC_15530205.png       494\n",
      "3  0803/DSC_15540206.png       866\n",
      "4  0803/DSC_15550207.png       725\n"
     ]
    }
   ],
   "source": [
    "# Add a column 'identity' with random integers as labels\n",
    "# num_identities = 10000  # or any number of unique identities you want\n",
    "# df['identity'] = np.random.randint(0, num_identities, size=len(df))\n",
    "df = df[:100000]\n",
    "print(len(df))\n",
    "print(df.head())\n",
    "df.to_csv(PT_CSV[:-4]+'_100000.csv', index=False)\n",
    "# df.to_csv(PT_CSV, index=False)"
   ]
  },
  {
   "cell_type": "markdown",
   "id": "1116a637",
   "metadata": {},
   "source": [
    "# Model setup"
   ]
  },
  {
   "cell_type": "code",
   "execution_count": 4,
   "id": "ffceae2b",
   "metadata": {},
   "outputs": [],
   "source": [
    "# Load the MegaDescriptor model\n",
    "# backbone = timm.create_model('hf-hub:BVRA/MegaDescriptor-L-384', pretrained=True, num_classes=0)\n",
    "# backbone = timm.create_model('hf-hub:BVRA/MegaDescriptor-T-224', pretrained=True, num_classes=0)\n",
    "\n",
    "\n",
    "# Load the processor and model\n",
    "processor = AutoImageProcessor.from_pretrained('facebook/dinov2-small', use_fast=True)\n",
    "backbone = AutoModel.from_pretrained('facebook/dinov2-small')\n"
   ]
  },
  {
   "cell_type": "code",
   "execution_count": 142,
   "id": "a372fa47",
   "metadata": {},
   "outputs": [],
   "source": [
    "# freeze all parameters in the backbone\n",
    "for param in backbone.parameters():\n",
    "    param.requires_grad = False\n",
    "\n",
    "# The DINOv2 model from Hugging Face has an encoder with a list of layers.\n",
    "# unfreeze the last two layers. DINOv2-small has 12 layers (0-11).\n",
    "layers_to_train = [10, 11]\n",
    "for name, param in backbone.named_parameters():\n",
    "    for layer_num in layers_to_train:\n",
    "        if f\"encoder.layer.{layer_num}.\" in name:\n",
    "            param.requires_grad = True"
   ]
  },
  {
   "cell_type": "code",
   "execution_count": 5,
   "id": "20ba3bcf",
   "metadata": {},
   "outputs": [
    {
     "name": "stdout",
     "output_type": "stream",
     "text": [
      "using gpu cuda:1, 4 available\n"
     ]
    }
   ],
   "source": [
    "import pynvml\n",
    "\n",
    "pynvml.nvmlInit()\n",
    "device_count = torch.cuda.device_count()\n",
    "max_free_mem = 0\n",
    "best_device = 0\n",
    "\n",
    "for i in range(device_count):\n",
    "    handle = pynvml.nvmlDeviceGetHandleByIndex(i)\n",
    "    mem_info = pynvml.nvmlDeviceGetMemoryInfo(handle)\n",
    "    if mem_info.free > max_free_mem:\n",
    "        max_free_mem = mem_info.free\n",
    "        best_device = i\n",
    "\n",
    "device = torch.device(f'cuda:{best_device}')\n",
    "print(f'using gpu {device}, {torch.cuda.device_count()} available')"
   ]
  },
  {
   "cell_type": "code",
   "execution_count": 6,
   "id": "b60c2de0",
   "metadata": {},
   "outputs": [],
   "source": [
    "class SafeImageDataset(ImageDataset):\n",
    "    \"\"\"ImageDataset that skips unreadable images and logs their paths.\"\"\"\n",
    "\n",
    "    def __init__(self, *args, log_file: str | None = None, **kwargs):\n",
    "        super().__init__(*args, **kwargs)\n",
    "        self.log_file = log_file\n",
    "\n",
    "    def __getitem__(self, idx):\n",
    "        attempts = 0\n",
    "        start_idx = idx\n",
    "        while attempts < len(self.metadata):\n",
    "            data = self.metadata.iloc[idx]\n",
    "            img_path = os.path.join(self.root, data[self.col_path]) if self.root else data[self.col_path]\n",
    "            try:\n",
    "                img = self.get_image(img_path)\n",
    "            except (FileNotFoundError, ValueError):\n",
    "                if self.log_file:\n",
    "                    with open(self.log_file, \"a\") as f:\n",
    "                        f.write(f\"{img_path}\\n\")\n",
    "                idx = (idx + 1) % len(self.metadata)\n",
    "                attempts += 1\n",
    "                continue\n",
    "\n",
    "            if self.transform:\n",
    "                img = self.transform(img)\n",
    "            if self.load_label:\n",
    "                return img, self.labels[idx]\n",
    "            return img\n",
    "\n",
    "        raise RuntimeError(\"No valid images found starting from index \" f\"{start_idx}\")"
   ]
  },
  {
   "cell_type": "code",
   "execution_count": 7,
   "id": "fa14f67d",
   "metadata": {},
   "outputs": [],
   "source": [
    "# 2. Split the data into train and query sets\n",
    "train_rows = []\n",
    "query_rows = []\n",
    "val_ratio = 0.1\n",
    "\n",
    "# Group by each ID\n",
    "for name, group in df.groupby('identity'):\n",
    "    # Sort the images for that ID by date\n",
    "    group = group.sort_values(by='date')\n",
    "    \n",
    "    # Skip IDs with only one image, as they can't be split\n",
    "    if len(group) < 2:\n",
    "        train_rows.append(group)\n",
    "        continue\n",
    "\n",
    "    # Determine the split point\n",
    "    n_val = int(np.ceil(len(group) * val_ratio)) # np.ceil ensures at least 1 for val if ratio > 0\n",
    "    n_train = len(group) - n_val\n",
    "\n",
    "    # Append rows to the correct lists\n",
    "    train_rows.append(group.head(n_train))\n",
    "    query_rows.append(group.tail(n_val))\n",
    "\n",
    "# Concatenate the lists of rows into final DataFrames\n",
    "train_df = pd.concat(train_rows)\n",
    "query_df = pd.concat(query_rows)\n"
   ]
  },
  {
   "cell_type": "code",
   "execution_count": 8,
   "id": "632504cd",
   "metadata": {},
   "outputs": [
    {
     "name": "stdout",
     "output_type": "stream",
     "text": [
      "Train set size: 270\n",
      "Query set size: 34\n",
      "total size: 304\n",
      "\n",
      "Query IDs: 10\n",
      "Train IDs: 10\n",
      "\n",
      "Verification successful: All IDs in the query set are present in the train set.\n"
     ]
    }
   ],
   "source": [
    "\n",
    "print(f\"Train set size: {len(train_df)}\")\n",
    "print(f\"Query set size: {len(query_df)}\")\n",
    "print(f'total size: {len(train_df) + len(query_df)}')\n",
    "\n",
    "# Verify that all IDs in the query set are present in the train set\n",
    "query_ids = set(query_df['identity'].unique())\n",
    "train_ids = set(train_df['identity'].unique())\n",
    "\n",
    "print(f\"\\nQuery IDs: {len(query_ids)}\")\n",
    "print(f\"Train IDs: {len(train_ids)}\")\n",
    "\n",
    "assert query_ids.issubset(train_ids)\n",
    "\n",
    "print(\"\\nVerification successful: All IDs in the query set are present in the train set.\")"
   ]
  },
  {
   "cell_type": "code",
   "execution_count": 9,
   "id": "827a38ac",
   "metadata": {},
   "outputs": [],
   "source": [
    "\n",
    "# Define image transformations\n",
    "transform = T.Compose([\n",
    "    T.Resize((224, 224)),  # Resize to match MegaDescriptor-L-384 input\n",
    "    T.ToTensor(),\n",
    "    T.Normalize(mean=[0.5, 0.5, 0.5], std=[0.5, 0.5, 0.5])\n",
    "])\n",
    "transform_dino = T.Compose([\n",
    "    T.Resize((224, 224)),\n",
    "    T.ToTensor(),\n",
    "    T.Normalize(mean=processor.image_mean, std=processor.image_std)\n",
    "])\n",
    "\n",
    "# query_df = df.sample(frac=0.2, random_state=42)\n",
    "# database_df = df.drop(query_df.index)\n",
    "# Save the query and database splits to CSV files\n",
    "# query_df.to_csv(PT_CSV[:-4] + '_query.csv', index=False)\n",
    "# train_df.to_csv(PT_CSV[:-4] + '_database.csv', index=False)\n",
    "\n",
    "# Create ImageDataset instances\n",
    "\n",
    "query_dataset = SafeImageDataset(query_df, root=PT_images, transform=transform_dino,log_file='unreadable_images.txt')\n",
    "database_dataset = SafeImageDataset(train_df, root=PT_images, transform=transform_dino, log_file='unreadable_images.txt')\n",
    "\n",
    "# query_dataset = ImageDataset(query_df, root=PT_images, transform=transform_dino)\n",
    "# database_dataset = ImageDataset(database_df, root=PT_images, transform=transform_dino)"
   ]
  },
  {
   "cell_type": "code",
   "execution_count": 15,
   "id": "8996af55",
   "metadata": {},
   "outputs": [
    {
     "name": "stdout",
     "output_type": "stream",
     "text": [
      "Query dataset size: 0\n",
      "Database dataset size: 183441\n",
      "All query IDs in database: True\n",
      "ids in query dataset: 0\n",
      "ids in database dataset: 29997\n"
     ]
    }
   ],
   "source": [
    "print(f\"Query dataset size: {len(query_dataset)}\")\n",
    "print(f\"Database dataset size: {len(database_dataset)}\")\n",
    "query_ids = set(query_dataset.metadata['identity'].unique())\n",
    "database_ids = set(database_dataset.metadata['identity'].unique())\n",
    "all_query_ids_in_database = query_ids.issubset(database_ids)\n",
    "print(f\"All query IDs in database: {all_query_ids_in_database}\")\n",
    "print('ids in query dataset:', len(query_dataset.metadata['identity'].unique()))\n",
    "print('ids in database dataset:', len(database_dataset.metadata['identity'].unique()))"
   ]
  },
  {
   "cell_type": "code",
   "execution_count": 10,
   "id": "97c3400c",
   "metadata": {},
   "outputs": [],
   "source": [
    "# Define a wrapper to extract features\n",
    "class DINOv2Wrapper(nn.Module):\n",
    "    def __init__(self, backbone):\n",
    "        super().__init__()\n",
    "        self.backbone = backbone\n",
    "\n",
    "    def forward(self, x):\n",
    "        # Extract the last hidden state\n",
    "        outputs = self.backbone(x)\n",
    "        # Use the [CLS] token representation\n",
    "        return outputs.last_hidden_state[:, 0]"
   ]
  },
  {
   "cell_type": "code",
   "execution_count": 27,
   "id": "8d20154b",
   "metadata": {},
   "outputs": [
    {
     "name": "stdout",
     "output_type": "stream",
     "text": [
      "Checking database_dataset...\n",
      "Checking image: /gws/nopw/j04/iecdt/dash/cropped_images/id/w_random_masks/1706/Lower Lalaja/29A/DCIM/121D7100/DSC_8870.png\n",
      "Checking image: /gws/nopw/j04/iecdt/dash/cropped_images/id/w_random_masks/1803/LL/26B/123D7100/DSC_3857.png\n",
      "Checking image: /gws/nopw/j04/iecdt/dash/cropped_images/id/w_random_masks/1804/LL/27B/DSC_5389.png\n",
      "Checking image: /gws/nopw/j04/iecdt/dash/cropped_images/id/w_random_masks/1802/LL/26B/DSC_0428.png\n",
      "Checking image: /gws/nopw/j04/iecdt/dash/cropped_images/id/w_random_masks/1806/LL/28A/100D7100/DSC_9352.png\n",
      "Checking image: /gws/nopw/j04/iecdt/dash/cropped_images/id/w_random_masks/1807/LL/26B/124D7100/DSC_2617.png\n",
      "Checking image: /gws/nopw/j04/iecdt/dash/cropped_images/id/w_random_masks/1902/LL/27B/110D7100.1/DSC_4155.png\n",
      "Checking image: /gws/nopw/j04/iecdt/dash/cropped_images/id/w_random_masks/1901/Lower Lalaja/27B/DSC_2536.png\n",
      "Checking image: /gws/nopw/j04/iecdt/dash/cropped_images/id/w_random_masks/1908/Lower Lalaja/27B/DSC_0257.png\n",
      "Checking image: /gws/nopw/j04/iecdt/dash/cropped_images/id/w_random_masks/1906/Lower Lalaja/27B/DSC_4263.png\n",
      "Checking image: /gws/nopw/j04/iecdt/dash/cropped_images/id/w_random_masks/1909/LL/27B/DSC_3431.png\n",
      "Checking image: /gws/nopw/j04/iecdt/dash/cropped_images/id/w_random_masks/1807/LL/26B/124D7100/DSC_2530.png\n",
      "Checking image: /gws/nopw/j04/iecdt/dash/cropped_images/id/w_random_masks/1707/Lower Lalaja/26B/122D7100/DSC_0291.png\n",
      "Checking image: /gws/nopw/j04/iecdt/dash/cropped_images/id/w_random_masks/1708/Lower Lalaja/26A/DSC_2107.png\n",
      "Checking image: /gws/nopw/j04/iecdt/dash/cropped_images/id/w_random_masks/1809/LL/26B/DSC_6277.png\n",
      "Checking image: /gws/nopw/j04/iecdt/dash/cropped_images/id/w_random_masks/1911/LL/27A/129D7100/DSC_2155.png\n",
      "Checking image: /gws/nopw/j04/iecdt/dash/cropped_images/id/w_random_masks/1712/Lower Lalaja/27B/DSC_8190.png\n",
      "Checking image: /gws/nopw/j04/iecdt/dash/cropped_images/id/w_random_masks/1812/Lower Lalaja/27A/DSC_0983.png\n",
      "Checking image: /gws/nopw/j04/iecdt/dash/cropped_images/id/w_random_masks/1811/LL/28A/DSC_8450.png\n",
      "Checking image: /gws/nopw/j04/iecdt/dash/cropped_images/id/w_random_masks/2001/LL/27B/112D7100/DSC_5688.png\n",
      "Checking image: /gws/nopw/j04/iecdt/dash/cropped_images/id/w_random_masks/1609/LL/27B (female side)/DSC_3174.png\n",
      "Checking image: /gws/nopw/j04/iecdt/dash/cropped_images/id/w_random_masks/1910/LL/27B/111D7100/DSC_7305.png\n",
      "Checking image: /gws/nopw/j04/iecdt/dash/cropped_images/id/w_random_masks/1702/Lower Lalaja/27B/121D7100/DSC_1137.png\n",
      "Checking image: /gws/nopw/j04/iecdt/dash/cropped_images/id/w_random_masks/1606/LL/27A (Female Side)/101D7100/DSC_4778.png\n",
      "Checking image: /gws/nopw/j04/iecdt/dash/cropped_images/id/w_random_masks/1607/LL/28B (Female Side)/101D7100/DSC_7449.png\n",
      "Checking image: /gws/nopw/j04/iecdt/dash/cropped_images/id/w_random_masks/1703/Lower Lalaja/27a/107D7100/DSC_0589.png\n",
      "Checking image: /gws/nopw/j04/iecdt/dash/cropped_images/id/w_random_masks/1701/Lower Lalaja/DCIM/Male side/DSC_7902.png\n",
      "Checking image: /gws/nopw/j04/iecdt/dash/cropped_images/id/w_random_masks/1705/Lower Lalaja/28A/DCIM/107D7100/DSC_4923.png\n",
      "Checking image: /gws/nopw/j04/iecdt/dash/cropped_images/id/w_random_masks/1611/LL/27A(MALE)/120D7100/DSC_7579.png\n",
      "Checking image: /gws/nopw/j04/iecdt/dash/cropped_images/id/w_random_masks/1711/LL/26B/122D7100/DSC_6968.png\n",
      "Checking image: /gws/nopw/j04/iecdt/dash/cropped_images/id/w_random_masks/1604/LL/27 - B (Female side)/DSC_0015.png\n",
      "Checking image: /gws/nopw/j04/iecdt/dash/cropped_images/id/w_random_masks/1605/LL/28A (Female Side)/101D7100/DSC_2367.png\n",
      "Checking image: /gws/nopw/j04/iecdt/dash/cropped_images/id/w_random_masks/1801/Lower Lalaja/29A/DSC_0475.png\n",
      "Checking image: /gws/nopw/j04/iecdt/dash/cropped_images/id/w_random_masks/2002/LL/27A/130D7100/DSC_1441.png\n",
      "Checking image: /gws/nopw/j04/iecdt/dash/cropped_images/id/w_random_masks/1703/Upper Lalaja/2B/DCIM/121D7100/DSC_3174.png\n",
      "Checking image: /gws/nopw/j04/iecdt/dash/cropped_images/id/w_random_masks/1502/UL/4B/100NCD90/DSC_0417.png\n",
      "Checking image: /gws/nopw/j04/iecdt/dash/cropped_images/id/w_random_masks/1602/UL/4A/104D7100/DSC_3027.png\n",
      "Checking image: /gws/nopw/j04/iecdt/dash/cropped_images/id/w_random_masks/1702/Upper Lalaja/5B/DCIM/121D7100/DSC_1418.png\n",
      "Checking image: /gws/nopw/j04/iecdt/dash/cropped_images/id/w_random_masks/1601/UL/01A/104D7100/DSC_0820.png\n",
      "Checking image: /gws/nopw/j04/iecdt/dash/cropped_images/id/w_random_masks/1709/Upper Lalaja/1B/122D7100/DSC_4231.png\n",
      "Checking image: /gws/nopw/j04/iecdt/dash/cropped_images/id/w_random_masks/1710/UL/3B/122D7100/DSC_5719.png\n",
      "Checking image: /gws/nopw/j04/iecdt/dash/cropped_images/id/w_random_masks/1611/UL/03B(FEMALE)/120D7100/DSC_8095.png\n",
      "Checking image: /gws/nopw/j04/iecdt/dash/cropped_images/id/w_random_masks/1606/UL/4A (Female Side)/101D7100/DSC_5674.png\n",
      "Checking image: /gws/nopw/j04/iecdt/dash/cropped_images/id/w_random_masks/1607/UL/03B (male side)/105D7100/DSC_5983.png\n",
      "Checking image: /gws/nopw/j04/iecdt/dash/cropped_images/id/w_random_masks/1610/UL/28B (female side)/DSC_5904.png\n",
      "Checking image: /gws/nopw/j04/iecdt/dash/cropped_images/id/w_random_masks/1409/Upper Lalaja/6B/100NCD90/DSC_0026.png\n",
      "Checking image: /gws/nopw/j04/iecdt/dash/cropped_images/id/w_random_masks/1609/UL/04B (female side)/DSC_3880.png\n",
      "Checking image: /gws/nopw/j04/iecdt/dash/cropped_images/id/w_random_masks/1604/UL/3 - B (Female side)/DSC_7107.png\n",
      "Checking image: /gws/nopw/j04/iecdt/dash/cropped_images/id/w_random_masks/1504/UL/1B/100NCD90/DSC_0083.png\n",
      "Checking image: /gws/nopw/j04/iecdt/dash/cropped_images/id/w_random_masks/1707/Upper Lalaja/2B/DCIM/122D7100/DSC_0939.png\n",
      "Checking image: /gws/nopw/j04/iecdt/dash/cropped_images/id/w_random_masks/1704/Upper Lalaja/04b/121D7100/DSC_4604.png\n",
      "Checking image: /gws/nopw/j04/iecdt/dash/cropped_images/id/w_random_masks/1612/UL/UL/04B (MALE SIDE)/106D7100/DSC_7109.png\n",
      "Checking image: /gws/nopw/j04/iecdt/dash/cropped_images/id/w_random_masks/1708/Upper Lalaja/1B/122D7100/DSC_2610.png\n",
      "Checking image: /gws/nopw/j04/iecdt/dash/cropped_images/id/w_random_masks/1410/Upper Lalaja/115B/100NCD90/DSC_0096.png\n",
      "Checking image: /gws/nopw/j04/iecdt/dash/cropped_images/id/w_random_masks/1505/UL/2B/100NCD90/DSC_0248.png\n",
      "Checking image: /gws/nopw/j04/iecdt/dash/cropped_images/id/w_random_masks/1506/UL/4B/100NCD90/DSC_0278.png\n",
      "Checking image: /gws/nopw/j04/iecdt/dash/cropped_images/id/w_random_masks/1508/Upper Lalaja/3B/100NCD90/DSC_0488.png\n",
      "Checking image: /gws/nopw/j04/iecdt/dash/cropped_images/id/w_random_masks/1503/Upper Lalaja/31B/DCIM/100NCD90/DSC_0011.png\n",
      "Checking image: /gws/nopw/j04/iecdt/dash/cropped_images/id/w_random_masks/1509/Upper Lalaja/3B/100NCD90/DSC_0137.png\n",
      "Checking image: /gws/nopw/j04/iecdt/dash/cropped_images/id/w_random_masks/1401/Lower Lalaja/27B/100NCD90/DSC_0090.png\n",
      "Checking image: /gws/nopw/j04/iecdt/dash/cropped_images/id/w_random_masks/1310/Lower Lalaja/29B/100NCD90/DSC_0098.png\n",
      "Checking image: /gws/nopw/j04/iecdt/dash/cropped_images/id/w_random_masks/1212/Lower Lalaja/28B/100NCD60/DSC_0640.png\n",
      "Checking image: /gws/nopw/j04/iecdt/dash/cropped_images/id/w_random_masks/1304/Lower Lalaja/30B/100NCD90/DSC_0088.png\n",
      "Checking image: /gws/nopw/j04/iecdt/dash/cropped_images/id/w_random_masks/1208/Lower Lalaja/27B/100NCD90/DSC_0034.png\n",
      "Checking image: /gws/nopw/j04/iecdt/dash/cropped_images/id/w_random_masks/1503/Lower Lalaja/26B/DCIM/100NCD90/DSC_0277.png\n",
      "Checking image: /gws/nopw/j04/iecdt/dash/cropped_images/id/w_random_masks/1306/Lower Lalaja/27B/100NCD90/DSC_0153.png\n",
      "Checking image: /gws/nopw/j04/iecdt/dash/cropped_images/id/w_random_masks/1209/Lower Lalaja/27B/100NCD90/DSC_0142.png\n",
      "Checking image: /gws/nopw/j04/iecdt/dash/cropped_images/id/w_random_masks/1409/Lower Lalaja/28A/100NCD90/DSC_0105.png\n",
      "Checking image: /gws/nopw/j04/iecdt/dash/cropped_images/id/w_random_masks/1402/Lower Lalaja/27A/100NCD90/DSC_0101.png\n",
      "Checking image: /gws/nopw/j04/iecdt/dash/cropped_images/id/w_random_masks/1602/Lower Lalaja/27A/100D7100/DSC_5891.png\n",
      "Checking image: /gws/nopw/j04/iecdt/dash/cropped_images/id/w_random_masks/1506/LL/29B/100NCD90/DSC_0166.png\n",
      "Checking image: /gws/nopw/j04/iecdt/dash/cropped_images/id/w_random_masks/1407/Lower Lalaja/27B/100NCD90/DSC_0155.png\n",
      "Checking image: /gws/nopw/j04/iecdt/dash/cropped_images/id/w_random_masks/1309/Lower Lalaja/28A/100NCD90/DSC_0162.png\n",
      "Checking image: /gws/nopw/j04/iecdt/dash/cropped_images/id/w_random_masks/1302/Lower Lalaja/28B/DSC_0067.png\n",
      "Checking image: /gws/nopw/j04/iecdt/dash/cropped_images/id/w_random_masks/1406/Lower Lalaja/28A/100NCD90/DSC_0182.png\n",
      "Checking image: /gws/nopw/j04/iecdt/dash/cropped_images/id/w_random_masks/1405/Lower Lalaja/28A/100NCD90/DSC_0159.png\n",
      "Checking image: /gws/nopw/j04/iecdt/dash/cropped_images/id/w_random_masks/1301/Lower Lalaja/28B/100NCD90/DSC_0112.png\n",
      "Checking image: /gws/nopw/j04/iecdt/dash/cropped_images/id/w_random_masks/1305/Lower Lalaja/27B/100NCD90/DSC_0005.png\n",
      "Checking image: /gws/nopw/j04/iecdt/dash/cropped_images/id/w_random_masks/1306/Lower Lalaja/27B/100NCD90/DSC_0154.png\n",
      "Checking image: /gws/nopw/j04/iecdt/dash/cropped_images/id/w_random_masks/1308/Lower Lalaja/28A/100NCD90/DSC_0060.png\n",
      "Checking image: /gws/nopw/j04/iecdt/dash/cropped_images/id/w_random_masks/1601/LL/26B/100D7100/DSC_4203.png\n",
      "Checking image: /gws/nopw/j04/iecdt/dash/cropped_images/id/w_random_masks/1501/LL/26A/100D7100/DSC_2948.png\n",
      "Checking image: /gws/nopw/j04/iecdt/dash/cropped_images/id/w_random_masks/1303/Lower Lalaja/27B/100NCD90/DSC_0093.png\n",
      "Checking image: /gws/nopw/j04/iecdt/dash/cropped_images/id/w_random_masks/1401/Lower Lalaja/27A/100NCD90/DSC_0069.png\n",
      "Checking image: /gws/nopw/j04/iecdt/dash/cropped_images/id/w_random_masks/1211/Lower Lalaja/29B/DCIM/100NCD90/DSC_0009.png\n",
      "Checking image: /gws/nopw/j04/iecdt/dash/cropped_images/id/w_random_masks/1406/Lower Lalaja/28B/100NCD90/DSC_0192.png\n",
      "Checking image: /gws/nopw/j04/iecdt/dash/cropped_images/id/w_random_masks/1404/Lower Lalaja/28B/100NCD90/DSC_0220.png\n",
      "Checking image: /gws/nopw/j04/iecdt/dash/cropped_images/id/w_random_masks/1507/LL/26B/100NCD90/DSC_0439.png\n",
      "Checking image: /gws/nopw/j04/iecdt/dash/cropped_images/id/w_random_masks/1410/Lower Lalaja/29 B/100NCD90/100NCD90/DSC_0050.png\n",
      "Checking image: /gws/nopw/j04/iecdt/dash/cropped_images/id/w_random_masks/1302/Lower Lalaja/27B/DSC_0082.png\n",
      "Checking image: /gws/nopw/j04/iecdt/dash/cropped_images/id/w_random_masks/1312/Lower Lalaja/27B/100NCD90/DSC_0156.png\n",
      "Checking image: /gws/nopw/j04/iecdt/dash/cropped_images/id/w_random_masks/1212/Lower Lalaja/28B/100NCD60/DSC_0634.png\n",
      "Checking image: /gws/nopw/j04/iecdt/dash/cropped_images/id/w_random_masks/1307/Lower Lalaja/28B/100NCD90/DSC_0028.png\n",
      "Checking image: /gws/nopw/j04/iecdt/dash/cropped_images/id/w_random_masks/1305/Lower Lalaja/28B/100NCD90/DSC_0177.png\n",
      "Checking image: /gws/nopw/j04/iecdt/dash/cropped_images/id/w_random_masks/1412/LL/28A/100D7100/DSC_1314.png\n",
      "Checking image: /gws/nopw/j04/iecdt/dash/cropped_images/id/w_random_masks/1504/LL/26B/DSC_0408.png\n",
      "Checking image: /gws/nopw/j04/iecdt/dash/cropped_images/id/w_random_masks/1304/Lower Lalaja/30B/100NCD90/DSC_0092.png\n",
      "Checking image: /gws/nopw/j04/iecdt/dash/cropped_images/id/w_random_masks/1309/Lower Lalaja/27B/100NCD90/DSC_0092.png\n",
      "Checking image: /gws/nopw/j04/iecdt/dash/cropped_images/id/w_random_masks/1310/Lower Lalaja/30B/100NCD90/DSC_0074.png\n",
      "Checking image: /gws/nopw/j04/iecdt/dash/cropped_images/id/w_random_masks/1210/Lower Lalaja/31B/100NCD90/DSC_0124.png\n",
      "Checking image: /gws/nopw/j04/iecdt/dash/cropped_images/id/w_random_masks/1301/Lower Lalaja/28A/101NCD60/DSC_1720.png\n",
      "Checking image: /gws/nopw/j04/iecdt/dash/cropped_images/id/w_random_masks/1409/Lower Lalaja/28B/100NCD90/DSC_0169.png\n",
      "Checking image: /gws/nopw/j04/iecdt/dash/cropped_images/id/w_random_masks/1405/Lower Lalaja/28A/100NCD90/DSC_0156.png\n",
      "Checking image: /gws/nopw/j04/iecdt/dash/cropped_images/id/w_random_masks/1510/Lower Lalaja/22B/100NCD90/DSC_0170.png\n",
      "Checking image: /gws/nopw/j04/iecdt/dash/cropped_images/id/w_random_masks/1507/LL/26B/100NCD90/DSC_0246.png\n",
      "Checking image: /gws/nopw/j04/iecdt/dash/cropped_images/id/w_random_masks/1507/LL/26B/100NCD90/DSC_0125.png\n",
      "Checking image: /gws/nopw/j04/iecdt/dash/cropped_images/id/w_random_masks/1307/Lower Lalaja/28B/100NCD90/DSC_0086.png\n",
      "Checking image: /gws/nopw/j04/iecdt/dash/cropped_images/id/w_random_masks/1308/Lower Lalaja/28A/100NCD90/DSC_0008.png\n",
      "Checking image: /gws/nopw/j04/iecdt/dash/cropped_images/id/w_random_masks/1311/Lower Lalaja/28A/100NCD90/DSC_0133.png\n",
      "Checking image: /gws/nopw/j04/iecdt/dash/cropped_images/id/w_random_masks/1409/Lower Lalaja/27B/100NCD90/DSC_0196.png\n",
      "Checking image: /gws/nopw/j04/iecdt/dash/cropped_images/id/w_random_masks/1310/Lower Lalaja/30A/100NCD90/DSC_0124.png\n",
      "Checking image: /gws/nopw/j04/iecdt/dash/cropped_images/id/w_random_masks/1312/Lower Lalaja/27B/100NCD90/DSC_0091.png\n",
      "Checking image: /gws/nopw/j04/iecdt/dash/cropped_images/id/w_random_masks/1409/Lower Lalaja/27B/100NCD90/DSC_0083.png\n",
      "Checking image: /gws/nopw/j04/iecdt/dash/cropped_images/id/w_random_masks/1212/Lower Lalaja/27B/101NCD90/DSC_0101.png\n",
      "Checking image: /gws/nopw/j04/iecdt/dash/cropped_images/id/w_random_masks/1502/LL/27B/DCIM/100NCD90/DSC_0082.png\n",
      "Checking image: /gws/nopw/j04/iecdt/dash/cropped_images/id/w_random_masks/1509/Lower Lalaja/26B/100NCD90/DSC_0325.png\n",
      "Checking image: /gws/nopw/j04/iecdt/dash/cropped_images/id/w_random_masks/1504/LL/26B/DSC_0163.png\n",
      "Checking image: /gws/nopw/j04/iecdt/dash/cropped_images/id/w_random_masks/1301/Lower Lalaja/28B/100NCD90/DSC_0084.png\n",
      "Checking image: /gws/nopw/j04/iecdt/dash/cropped_images/id/w_random_masks/1410/Lower Lalaja/29 B/100NCD90/100NCD90/DSC_0240.png\n",
      "Checking image: /gws/nopw/j04/iecdt/dash/cropped_images/id/w_random_masks/1501/LL/26B/100NCD90/DSC_0190.png\n",
      "Checking image: /gws/nopw/j04/iecdt/dash/cropped_images/id/w_random_masks/1306/Lower Lalaja/28B/100NCD90/DSC_0025.png\n",
      "Checking image: /gws/nopw/j04/iecdt/dash/cropped_images/id/w_random_masks/1506/LL/28B/100NCD90/DSC_0108.png\n",
      "Checking image: /gws/nopw/j04/iecdt/dash/cropped_images/id/w_random_masks/1404/Lower Lalaja/28A/100NCD90/DSC_0173.png\n",
      "Checking image: /gws/nopw/j04/iecdt/dash/cropped_images/id/w_random_masks/1305/Lower Lalaja/27B/100NCD90/DSC_0069.png\n",
      "Checking image: /gws/nopw/j04/iecdt/dash/cropped_images/id/w_random_masks/1505/LL/27B/100NCD90/DSC_0117.png\n",
      "Checking image: /gws/nopw/j04/iecdt/dash/cropped_images/id/w_random_masks/1302/Lower Lalaja/27B/DSC_0054.png\n",
      "Checking image: /gws/nopw/j04/iecdt/dash/cropped_images/id/w_random_masks/1309/Lower Lalaja/28A/100NCD90/DSC_0130.png\n",
      "Checking image: /gws/nopw/j04/iecdt/dash/cropped_images/id/w_random_masks/1808/LL/27B/DSC_4718.png\n",
      "Checking image: /gws/nopw/j04/iecdt/dash/cropped_images/id/w_random_masks/1809/LL/27B/DSC_6446.png\n",
      "Checking image: /gws/nopw/j04/iecdt/dash/cropped_images/id/w_random_masks/1602/Lower Lalaja/26B/100D7100/DSC_5685.png\n",
      "Checking image: /gws/nopw/j04/iecdt/dash/cropped_images/id/w_random_masks/1805/LL/27A/100D7100/DSC_6546.png\n",
      "Checking image: /gws/nopw/j04/iecdt/dash/cropped_images/id/w_random_masks/1712/Lower Lalaja/28A/DSC_1456.png\n",
      "Checking image: /gws/nopw/j04/iecdt/dash/cropped_images/id/w_random_masks/1509/Lower Lalaja/26B/100NCD90/DSC_0222.png\n",
      "Checking image: /gws/nopw/j04/iecdt/dash/cropped_images/id/w_random_masks/1506/LL/28B/100NCD90/DSC_0017.png\n",
      "Checking image: /gws/nopw/j04/iecdt/dash/cropped_images/id/w_random_masks/1507/LL/26B/100NCD90/DSC_0065.png\n",
      "Checking image: /gws/nopw/j04/iecdt/dash/cropped_images/id/w_random_masks/1807/LL/26B/124D7100/DSC_2641.png\n",
      "Checking image: /gws/nopw/j04/iecdt/dash/cropped_images/id/w_random_masks/1409/Lower Lalaja/27B/100NCD90/DSC_0012.png\n",
      "Checking image: /gws/nopw/j04/iecdt/dash/cropped_images/id/w_random_masks/1405/Lower Lalaja/27B/100NCD90/DSC_0183.png\n",
      "Checking image: /gws/nopw/j04/iecdt/dash/cropped_images/id/w_random_masks/1502/LL/27B/DCIM/100NCD90/DSC_0024.png\n",
      "Checking image: /gws/nopw/j04/iecdt/dash/cropped_images/id/w_random_masks/1810/LL/24B/109D7100/DSC_8596.png\n",
      "Checking image: /gws/nopw/j04/iecdt/dash/cropped_images/id/w_random_masks/1410/Lower Lalaja/29 B/100NCD90/100NCD90/DSC_0283.png\n",
      "Checking image: /gws/nopw/j04/iecdt/dash/cropped_images/id/w_random_masks/1703/Lower Lalaja/27b/121D7100/DSC_2505.png\n",
      "Checking image: /gws/nopw/j04/iecdt/dash/cropped_images/id/w_random_masks/1510/Lower Lalaja/22B/100NCD90/DSC_0236.png\n",
      "Checking image: /gws/nopw/j04/iecdt/dash/cropped_images/id/w_random_masks/1601/LL/26B/100D7100/DSC_4140.png\n",
      "Checking image: /gws/nopw/j04/iecdt/dash/cropped_images/id/w_random_masks/1804/LL/28A/DSC_4351.png\n",
      "Checking image: /gws/nopw/j04/iecdt/dash/cropped_images/id/w_random_masks/1504/LL/26B/DSC_0180.png\n",
      "Checking image: /gws/nopw/j04/iecdt/dash/cropped_images/id/w_random_masks/1705/Lower Lalaja/27B/DCIM/121D7100/DSC_6456.png\n",
      "Checking image: /gws/nopw/j04/iecdt/dash/cropped_images/id/w_random_masks/1608/LL/27A (female side)/101D7100/DSC_9675.png\n",
      "Checking image: /gws/nopw/j04/iecdt/dash/cropped_images/id/w_random_masks/1701/Lower Lalaja/DCIM/Male side/DSC_7831.png\n",
      "Checking image: /gws/nopw/j04/iecdt/dash/cropped_images/id/w_random_masks/1611/LL/27A(MALE)/120D7100/DSC_7688.png\n",
      "Checking image: /gws/nopw/j04/iecdt/dash/cropped_images/id/w_random_masks/1702/Lower Lalaja/27A/DCIM/106D7100/DSC_9104.png\n",
      "Checking image: /gws/nopw/j04/iecdt/dash/cropped_images/id/w_random_masks/1602/Lower Lalaja/27A/100D7100/DSC_5776.png\n",
      "Checking image: /gws/nopw/j04/iecdt/dash/cropped_images/id/w_random_masks/1808/LL/27B/DSC_4771.png\n",
      "Checking image: /gws/nopw/j04/iecdt/dash/cropped_images/id/w_random_masks/1601/LL/26B/100D7100/DSC_4155.png\n",
      "Checking image: /gws/nopw/j04/iecdt/dash/cropped_images/id/w_random_masks/1811/LL/28A/DSC_8449.png\n",
      "Checking image: /gws/nopw/j04/iecdt/dash/cropped_images/id/w_random_masks/1812/Lower Lalaja/27B/125D7100/DSC_0042.png\n",
      "Checking image: /gws/nopw/j04/iecdt/dash/cropped_images/id/w_random_masks/1902/LL/27A/126D7100/DSC_4223.png\n",
      "Checking image: /gws/nopw/j04/iecdt/dash/cropped_images/id/w_random_masks/1809/LL/26B/DSC_6198.png\n",
      "Checking image: /gws/nopw/j04/iecdt/dash/cropped_images/id/w_random_masks/1810/LL/24B/109D7100/DSC_8467.png\n",
      "Checking image: /gws/nopw/j04/iecdt/dash/cropped_images/id/w_random_masks/1804/LL/27B/DSC_5644.png\n",
      "Checking image: /gws/nopw/j04/iecdt/dash/cropped_images/id/w_random_masks/1706/Lower Lalaja/29B/DCIM/107D7100/DSC_7811.png\n",
      "Checking image: /gws/nopw/j04/iecdt/dash/cropped_images/id/w_random_masks/1711/LL/26B/122D7100/DSC_6951.png\n",
      "Checking image: /gws/nopw/j04/iecdt/dash/cropped_images/id/w_random_masks/1712/Lower Lalaja/27B/DSC_8141.png\n",
      "Checking image: /gws/nopw/j04/iecdt/dash/cropped_images/id/w_random_masks/1802/LL/26B/DSC_0434.png\n",
      "Checking image: /gws/nopw/j04/iecdt/dash/cropped_images/id/w_random_masks/1607/LL/28B (Female Side)/101D7100/DSC_7494.png\n",
      "Checking image: /gws/nopw/j04/iecdt/dash/cropped_images/id/w_random_masks/1611/LL/28A(Male)/DCIM/106D7100/DSC_6136.png\n",
      "Checking image: /gws/nopw/j04/iecdt/dash/cropped_images/id/w_random_masks/1610/LL/23B (female side)/DSC_5331.png\n",
      "Checking image: /gws/nopw/j04/iecdt/dash/cropped_images/id/w_random_masks/1701/Lower Lalaja/DCIM/Female side/DSC_9670.png\n",
      "Checking image: /gws/nopw/j04/iecdt/dash/cropped_images/id/w_random_masks/1612/LL/27B(FEMALE)/120D7100/DSC_9017.png\n",
      "Checking image: /gws/nopw/j04/iecdt/dash/cropped_images/id/w_random_masks/1803/LL/26A/100D7100/DSC_2437.png\n",
      "Checking image: /gws/nopw/j04/iecdt/dash/cropped_images/id/w_random_masks/1709/Lower Lalaja/25A/108D7100/DSC_4968.png\n",
      "Checking image: /gws/nopw/j04/iecdt/dash/cropped_images/id/w_random_masks/1707/Lower Lalaja/25B/122D7100/DSC_0110.png\n",
      "Checking image: /gws/nopw/j04/iecdt/dash/cropped_images/id/w_random_masks/1606/LL/27A (Female Side)/101D7100/DSC_4944.png\n",
      "Checking image: /gws/nopw/j04/iecdt/dash/cropped_images/id/w_random_masks/1710/LL/29B/122D7100/DSC_5521.png\n",
      "Checking image: /gws/nopw/j04/iecdt/dash/cropped_images/id/w_random_masks/1705/Lower Lalaja/28B/121D7100/DSC_6749.png\n",
      "Checking image: /gws/nopw/j04/iecdt/dash/cropped_images/id/w_random_masks/1703/Lower Lalaja/27a/107D7100/DSC_0615.png\n",
      "Checking image: /gws/nopw/j04/iecdt/dash/cropped_images/id/w_random_masks/1612/LL/27B(FEMALE)/120D7100/DSC_9137.png\n",
      "Checking image: /gws/nopw/j04/iecdt/dash/cropped_images/id/w_random_masks/1709/Lower Lalaja/25A/108D7100/DSC_4967.png\n",
      "Checking image: /gws/nopw/j04/iecdt/dash/cropped_images/id/w_random_masks/1708/Lower Lalaja/26A/DSC_2104.png\n",
      "Checking image: /gws/nopw/j04/iecdt/dash/cropped_images/id/w_random_masks/1607/LL/27B (Female Side)/101D7100/DSC_7280.png\n",
      "Checking image: /gws/nopw/j04/iecdt/dash/cropped_images/id/w_random_masks/1608/LL/27A (female side)/101D7100/DSC_9778.png\n",
      "Checking image: /gws/nopw/j04/iecdt/dash/cropped_images/id/w_random_masks/1803/LL/26A/100D7100/DSC_2429.png\n",
      "Checking image: /gws/nopw/j04/iecdt/dash/cropped_images/id/w_random_masks/1606/LL/27A (Female Side)/101D7100/DSC_4943.png\n",
      "Checking image: /gws/nopw/j04/iecdt/dash/cropped_images/id/w_random_masks/1609/LL/28A (male side)/DSC_0912.png\n",
      "Checking image: /gws/nopw/j04/iecdt/dash/cropped_images/id/w_random_masks/1807/LL/26B/124D7100/DSC_2506.png\n",
      "Checking image: /gws/nopw/j04/iecdt/dash/cropped_images/id/w_random_masks/1806/LL/28A/100D7100/DSC_9337.png\n",
      "Checking image: /gws/nopw/j04/iecdt/dash/cropped_images/id/w_random_masks/1804/LL/28B/DSC_5783.png\n",
      "Checking image: /gws/nopw/j04/iecdt/dash/cropped_images/id/w_random_masks/1802/LL/26B/DSC_0432.png\n",
      "Checking image: /gws/nopw/j04/iecdt/dash/cropped_images/id/w_random_masks/1703/Lower Lalaja/27b/121D7100/DSC_2540.png\n",
      "Checking image: /gws/nopw/j04/iecdt/dash/cropped_images/id/w_random_masks/1903/Lower Lalaja/28B/DSC_6090.png\n",
      "Checking image: /gws/nopw/j04/iecdt/dash/cropped_images/id/w_random_masks/1811/LL/28B/DSC_9770.png\n",
      "Checking image: /gws/nopw/j04/iecdt/dash/cropped_images/id/w_random_masks/1705/Lower Lalaja/28B/121D7100/DSC_6753.png\n",
      "Checking image: /gws/nopw/j04/iecdt/dash/cropped_images/id/w_random_masks/1701/Lower Lalaja/DCIM/Female side/DSC_9848.png\n",
      "Checking image: /gws/nopw/j04/iecdt/dash/cropped_images/id/w_random_masks/1706/Lower Lalaja/29B/DCIM/107D7100/DSC_7803.png\n",
      "Checking image: /gws/nopw/j04/iecdt/dash/cropped_images/id/w_random_masks/1812/Lower Lalaja/27A/DSC_1026.png\n",
      "Checking image: /gws/nopw/j04/iecdt/dash/cropped_images/id/w_random_masks/1902/LL/27A/126D7100/DSC_4243.png\n",
      "Checking image: /gws/nopw/j04/iecdt/dash/cropped_images/id/w_random_masks/1906/Lower Lalaja/27B/DSC_4243.png\n",
      "Checking image: /gws/nopw/j04/iecdt/dash/cropped_images/id/w_random_masks/1611/LL/28B(Female)/DCIM/120D7100/DSC_7995.png\n",
      "Checking image: /gws/nopw/j04/iecdt/dash/cropped_images/id/w_random_masks/1606/LL/27A (Female Side)/101D7100/DSC_4690.png\n",
      "Checking image: /gws/nopw/j04/iecdt/dash/cropped_images/id/w_random_masks/1709/Lower Lalaja/25A/108D7100/DSC_4942.png\n",
      "Checking image: /gws/nopw/j04/iecdt/dash/cropped_images/id/w_random_masks/1801/Lower Lalaja/28B/DSC_0115.png\n",
      "Checking image: /gws/nopw/j04/iecdt/dash/cropped_images/id/w_random_masks/1703/Lower Lalaja/27b/121D7100/DSC_2561.png\n",
      "Checking image: /gws/nopw/j04/iecdt/dash/cropped_images/id/w_random_masks/1704/Lower Lalaja/29B/121D7100/DSC_4287.png\n",
      "Checking image: /gws/nopw/j04/iecdt/dash/cropped_images/id/w_random_masks/1711/LL/26B/122D7100/DSC_6870.png\n",
      "Checking image: /gws/nopw/j04/iecdt/dash/cropped_images/id/w_random_masks/1805/LL/28B/123D7100/DSC_7710.png\n",
      "Checking image: /gws/nopw/j04/iecdt/dash/cropped_images/id/w_random_masks/1806/LL/28A/100D7100/DSC_9320.png\n",
      "Checking image: /gws/nopw/j04/iecdt/dash/cropped_images/id/w_random_masks/1807/LL/27A/101D7100/DSC_2330.png\n",
      "Checking image: /gws/nopw/j04/iecdt/dash/cropped_images/id/w_random_masks/1802/LL/26B/DSC_0663.png\n",
      "Checking image: /gws/nopw/j04/iecdt/dash/cropped_images/id/w_random_masks/1701/Lower Lalaja/DCIM/Male side/DSC_7894.png\n",
      "Checking image: /gws/nopw/j04/iecdt/dash/cropped_images/id/w_random_masks/1611/LL/28B(Female)/DCIM/120D7100/DSC_8015.png\n",
      "Checking image: /gws/nopw/j04/iecdt/dash/cropped_images/id/w_random_masks/1702/Lower Lalaja/27A/DCIM/106D7100/DSC_9168.png\n",
      "Checking image: /gws/nopw/j04/iecdt/dash/cropped_images/id/w_random_masks/1808/LL/28B/DSC_4160.png\n",
      "Checking image: /gws/nopw/j04/iecdt/dash/cropped_images/id/w_random_masks/1809/LL/26B/DSC_6259.png\n",
      "Checking image: /gws/nopw/j04/iecdt/dash/cropped_images/id/w_random_masks/1810/LL/24A/124D7100/DSC_6974.png\n",
      "Checking image: /gws/nopw/j04/iecdt/dash/cropped_images/id/w_random_masks/1705/Lower Lalaja/28B/121D7100/DSC_6735.png\n",
      "Checking image: /gws/nopw/j04/iecdt/dash/cropped_images/id/w_random_masks/1706/Lower Lalaja/28B/DCIM/121D7100/DSC_8559.png\n",
      "Checking image: /gws/nopw/j04/iecdt/dash/cropped_images/id/w_random_masks/1707/Lower Lalaja/26B/122D7100/DSC_0337.png\n",
      "Checking image: /gws/nopw/j04/iecdt/dash/cropped_images/id/w_random_masks/1708/Lower Lalaja/26B/DSC_2688.png\n",
      "Checking image: /gws/nopw/j04/iecdt/dash/cropped_images/id/w_random_masks/1712/Lower Lalaja/27B/DSC_8212.png\n",
      "Checking image: /gws/nopw/j04/iecdt/dash/cropped_images/id/w_random_masks/1812/Lower Lalaja/27B/126D7100/DSC_0159.png\n",
      "Checking image: /gws/nopw/j04/iecdt/dash/cropped_images/id/w_random_masks/1901/Lower Lalaja/27B/DSC_2424.png\n",
      "Checking image: /gws/nopw/j04/iecdt/dash/cropped_images/id/w_random_masks/1902/LL/27A/126D7100/DSC_4225.png\n",
      "Checking image: /gws/nopw/j04/iecdt/dash/cropped_images/id/w_random_masks/1811/LL/28B/DSC_9786.png\n",
      "Checking image: /gws/nopw/j04/iecdt/dash/cropped_images/id/w_random_masks/1809/UL/1B/DSC_5686.png\n",
      "Checking image: /gws/nopw/j04/iecdt/dash/cropped_images/id/w_random_masks/1709/Upper Lalaja/2B/122D7100/DSC_4609.png\n",
      "Checking image: /gws/nopw/j04/iecdt/dash/cropped_images/id/w_random_masks/1801/Upper Lalaja/3A/123D7100/DSC_0862.png\n",
      "Checking image: /gws/nopw/j04/iecdt/dash/cropped_images/id/w_random_masks/1708/Upper Lalaja/31A/122D7100/DSC_2427.png\n",
      "Checking image: /gws/nopw/j04/iecdt/dash/cropped_images/id/w_random_masks/1805/UL/3B/DSC_8323.png\n",
      "Checking image: /gws/nopw/j04/iecdt/dash/cropped_images/id/w_random_masks/1902/UL/6B/110D7100/DSC_4426.png\n",
      "Checking image: /gws/nopw/j04/iecdt/dash/cropped_images/id/w_random_masks/1901/Upper Lalaja/1B/DSC_2723.png\n",
      "Checking image: /gws/nopw/j04/iecdt/dash/cropped_images/id/w_random_masks/1703/Upper Lalaja/2B/DCIM/121D7100/DSC_3019.png\n",
      "Checking image: /gws/nopw/j04/iecdt/dash/cropped_images/id/w_random_masks/1811/UL/03A/124D7100/DSC_8887.png\n",
      "Checking image: /gws/nopw/j04/iecdt/dash/cropped_images/id/w_random_masks/1711/UL/1A/DSC_9664.png\n",
      "Checking image: /gws/nopw/j04/iecdt/dash/cropped_images/id/w_random_masks/1712/Upper Lalaja/3B/DSC_8548.png\n",
      "Checking image: /gws/nopw/j04/iecdt/dash/cropped_images/id/w_random_masks/1702/Upper Lalaja/5A/DCIM/106D7100/DSC_9633.png\n",
      "Checking image: /gws/nopw/j04/iecdt/dash/cropped_images/id/w_random_masks/1705/Upper Lalaja/3B/DCIM/121D7100/DSC_7324.png\n",
      "Checking image: /gws/nopw/j04/iecdt/dash/cropped_images/id/w_random_masks/1908/Upper Lalaja/1B/111D7100/DSC_0650.png\n",
      "Checking image: /gws/nopw/j04/iecdt/dash/cropped_images/id/w_random_masks/1909/UL/2A/128D7100/DSC_6107.png\n",
      "Checking image: /gws/nopw/j04/iecdt/dash/cropped_images/id/w_random_masks/1905/Upper Lalaja/2B/DSC_2111.png\n",
      "Checking image: /gws/nopw/j04/iecdt/dash/cropped_images/id/w_random_masks/1911/UL/3A/129D7100/DSC_2849.png\n",
      "Checking image: /gws/nopw/j04/iecdt/dash/cropped_images/id/w_random_masks/1810/UL/29B/109D7100/DSC_9066.png\n",
      "Checking image: /gws/nopw/j04/iecdt/dash/cropped_images/id/w_random_masks/1903/Upper Lalaja/4B/110D7100/DSC_6832.png\n",
      "Checking image: /gws/nopw/j04/iecdt/dash/cropped_images/id/w_random_masks/1812/Upper Lalaja/2B/DSC_1453.png\n",
      "All images opened successfully!\n",
      "Checking query_dataset...\n",
      "Checking image: /gws/nopw/j04/iecdt/dash/cropped_images/id/w_random_masks/1707/Lower Lalaja/25B/122D7100/DSC_0087.png\n",
      "Checking image: /gws/nopw/j04/iecdt/dash/cropped_images/id/w_random_masks/1401/Lower Lalaja/26A/100NCD90/DSC_0089.png\n",
      "Checking image: /gws/nopw/j04/iecdt/dash/cropped_images/id/w_random_masks/1209/Lower Lalaja/27B/100NCD90/DSC_0161.png\n",
      "Checking image: /gws/nopw/j04/iecdt/dash/cropped_images/id/w_random_masks/1904/Lower Lalaja/29A/DSC_9901.png\n",
      "Checking image: /gws/nopw/j04/iecdt/dash/cropped_images/id/w_random_masks/1608/UL/03B (male side)/105D7100/DSC_8963.png\n",
      "Checking image: /gws/nopw/j04/iecdt/dash/cropped_images/id/w_random_masks/1903/Lower Lalaja/28A/DSC_6700.png\n",
      "Checking image: /gws/nopw/j04/iecdt/dash/cropped_images/id/w_random_masks/1308/Lower Lalaja/28A/100NCD90/DSC_0110.png\n",
      "Checking image: /gws/nopw/j04/iecdt/dash/cropped_images/id/w_random_masks/1303/Lower Lalaja/28A/100NCD60/DSC_3963.png\n",
      "Checking image: /gws/nopw/j04/iecdt/dash/cropped_images/id/w_random_masks/1508/Lower Lalaja/27B/100NCD90/DSC_0171.png\n",
      "Checking image: /gws/nopw/j04/iecdt/dash/cropped_images/id/w_random_masks/1704/Lower Lalaja/29B/121D7100/DSC_4160.png\n",
      "Checking image: /gws/nopw/j04/iecdt/dash/cropped_images/id/w_random_masks/1808/LL/27B/DSC_4782.png\n",
      "Checking image: /gws/nopw/j04/iecdt/dash/cropped_images/id/w_random_masks/1405/Lower Lalaja/28B/100NCD90/DSC_0100.png\n",
      "Checking image: /gws/nopw/j04/iecdt/dash/cropped_images/id/w_random_masks/1511/Upper Lalaja/2B/DSC_1026.png\n",
      "Checking image: /gws/nopw/j04/iecdt/dash/cropped_images/id/w_random_masks/1704/Lower Lalaja/28B/121D7100/DSC_4024.png\n",
      "Checking image: /gws/nopw/j04/iecdt/dash/cropped_images/id/w_random_masks/1208/Lower Lalaja/28A/100NCD60/DSC_6351.png\n",
      "Checking image: /gws/nopw/j04/iecdt/dash/cropped_images/id/w_random_masks/1501/UL/1A/100D7100/DSC_3407.png\n",
      "Checking image: /gws/nopw/j04/iecdt/dash/cropped_images/id/w_random_masks/1306/Lower Lalaja/28A/100NCD90/DSC_0046.png\n",
      "Checking image: /gws/nopw/j04/iecdt/dash/cropped_images/id/w_random_masks/1805/LL/27B/123D7100/DSC_7370.png\n",
      "Checking image: /gws/nopw/j04/iecdt/dash/cropped_images/id/w_random_masks/1809/LL/26B/DSC_6265.png\n",
      "Checking image: /gws/nopw/j04/iecdt/dash/cropped_images/id/w_random_masks/1503/Lower Lalaja/26B/DCIM/100NCD90/DSC_0042.png\n",
      "Checking image: /gws/nopw/j04/iecdt/dash/cropped_images/id/w_random_masks/1805/LL/28B/123D7100/DSC_7725.png\n",
      "Checking image: /gws/nopw/j04/iecdt/dash/cropped_images/id/w_random_masks/1806/UL/4B/124D7100/DSC_0710.png\n",
      "Checking image: /gws/nopw/j04/iecdt/dash/cropped_images/id/w_random_masks/1901/Lower Lalaja/26B/DSC_2325.png\n",
      "Checking image: /gws/nopw/j04/iecdt/dash/cropped_images/id/w_random_masks/1904/Lower Lalaja/29B/DSC_8624.png\n",
      "Checking image: /gws/nopw/j04/iecdt/dash/cropped_images/id/w_random_masks/1304/Lower Lalaja/29B/100NCD90/DSC_0005.png\n",
      "Checking image: /gws/nopw/j04/iecdt/dash/cropped_images/id/w_random_masks/1603/LL/26-B (Female side)/DSC_7326.png\n",
      "Checking image: /gws/nopw/j04/iecdt/dash/cropped_images/id/w_random_masks/1903/Lower Lalaja/28A/DSC_6687.png\n",
      "Checking image: /gws/nopw/j04/iecdt/dash/cropped_images/id/w_random_masks/1303/Lower Lalaja/27B/100NCD90/DSC_0081.png\n",
      "Checking image: /gws/nopw/j04/iecdt/dash/cropped_images/id/w_random_masks/1712/Lower Lalaja/27B/DSC_8211.png\n",
      "Checking image: /gws/nopw/j04/iecdt/dash/cropped_images/id/w_random_masks/1506/LL/29A/102D7100/DSC_4140.png\n",
      "Checking image: /gws/nopw/j04/iecdt/dash/cropped_images/id/w_random_masks/1211/Lower Lalaja/29B/DCIM/100NCD90/DSC_0045.png\n",
      "Checking image: /gws/nopw/j04/iecdt/dash/cropped_images/id/w_random_masks/1910/UL/2B/111D7100/DSC_8002.png\n",
      "Checking image: /gws/nopw/j04/iecdt/dash/cropped_images/id/w_random_masks/1609/LL/27B (female side)/DSC_3182.png\n",
      "Checking image: /gws/nopw/j04/iecdt/dash/cropped_images/id/w_random_masks/1704/Upper Lalaja/04b/121D7100/DSC_4605.png\n",
      "Checking image: /gws/nopw/j04/iecdt/dash/cropped_images/id/w_random_masks/1810/LL/24B/109D7100/DSC_8468.png\n",
      "Checking image: /gws/nopw/j04/iecdt/dash/cropped_images/id/w_random_masks/1802/UL/3A/DSC_0873.png\n",
      "Checking image: /gws/nopw/j04/iecdt/dash/cropped_images/id/w_random_masks/1411/Lower Lalaja/11.27b/PB277273.png\n",
      "Checking image: /gws/nopw/j04/iecdt/dash/cropped_images/id/w_random_masks/1410/Lower Lalaja/30 A/100NCD90/DSC_0139.png\n",
      "Checking image: /gws/nopw/j04/iecdt/dash/cropped_images/id/w_random_masks/1912/LL/26B/112D7100/DSC_3710.png\n",
      "Checking image: /gws/nopw/j04/iecdt/dash/cropped_images/id/w_random_masks/1412/UL/2A/100D7100/DSC_1543.png\n",
      "Checking image: /gws/nopw/j04/iecdt/dash/cropped_images/id/w_random_masks/1501/LL/26B/100NCD90/DSC_0260.png\n",
      "Checking image: /gws/nopw/j04/iecdt/dash/cropped_images/id/w_random_masks/1210/Lower Lalaja/31A/100NCD60/DSC_8564.png\n",
      "Checking image: /gws/nopw/j04/iecdt/dash/cropped_images/id/w_random_masks/1608/LL/28A (female side)/102D7100/DSC_0065.png\n",
      "Checking image: /gws/nopw/j04/iecdt/dash/cropped_images/id/w_random_masks/1407/Lower Lalaja/26B/100NCD90/DSC_0156.png\n",
      "Checking image: /gws/nopw/j04/iecdt/dash/cropped_images/id/w_random_masks/1610/LL/24A (male side)/DSC_3630.png\n",
      "Checking image: /gws/nopw/j04/iecdt/dash/cropped_images/id/w_random_masks/1803/UL/31A/DSC_2711.png\n",
      "Checking image: /gws/nopw/j04/iecdt/dash/cropped_images/id/w_random_masks/1707/Upper Lalaja/31A/108D7100/DSC_0780.png\n",
      "Checking image: /gws/nopw/j04/iecdt/dash/cropped_images/id/w_random_masks/1412/LL/28B/100NCD90/DSC_0022.png\n",
      "Checking image: /gws/nopw/j04/iecdt/dash/cropped_images/id/w_random_masks/1704/Upper Lalaja/05a/107D7100/DSC_3164.png\n",
      "Checking image: /gws/nopw/j04/iecdt/dash/cropped_images/id/w_random_masks/1711/LL/26B/122D7100/DSC_6949.png\n",
      "Checking image: /gws/nopw/j04/iecdt/dash/cropped_images/id/w_random_masks/1609/LL/27B (female side)/DSC_3048.png\n",
      "Checking image: /gws/nopw/j04/iecdt/dash/cropped_images/id/w_random_masks/1605/LL/28A (Female Side)/101D7100/DSC_2370.png\n",
      "Checking image: /gws/nopw/j04/iecdt/dash/cropped_images/id/w_random_masks/1701/Upper Lalaja/Male Side/106D7100/DSC_8190.png\n",
      "Checking image: /gws/nopw/j04/iecdt/dash/cropped_images/id/w_random_masks/1507/LL/26B/100NCD90/DSC_0076.png\n",
      "Checking image: /gws/nopw/j04/iecdt/dash/cropped_images/id/w_random_masks/1804/UL/03A/DSC_4894.png\n",
      "Checking image: /gws/nopw/j04/iecdt/dash/cropped_images/id/w_random_masks/1702/Lower Lalaja/27A/DCIM/106D7100/DSC_9109.png\n",
      "Checking image: /gws/nopw/j04/iecdt/dash/cropped_images/id/w_random_masks/1710/LL/29B/122D7100/DSC_5556.png\n",
      "Checking image: /gws/nopw/j04/iecdt/dash/cropped_images/id/w_random_masks/1311/Lower Lalaja/28A/100NCD90/DSC_0019.png\n",
      "Checking image: /gws/nopw/j04/iecdt/dash/cropped_images/id/w_random_masks/1904/Upper Lalaja/5B/DSC_9094.png\n",
      "Checking image: /gws/nopw/j04/iecdt/dash/cropped_images/id/w_random_masks/1807/LL/26B/124D7100/DSC_2549.png\n",
      "Checking image: /gws/nopw/j04/iecdt/dash/cropped_images/id/w_random_masks/1709/Lower Lalaja/27A/108D7100/DSC_5235.png\n",
      "All images opened successfully!\n"
     ]
    }
   ],
   "source": [
    "# check images work!!!!!\n",
    "from PIL import Image\n",
    "\n",
    "# Function to check if all images in a dataset can be opened\n",
    "def check_images(dataset, root):\n",
    "    failed = []\n",
    "    for idx in range(len(dataset)):\n",
    "        img_path = dataset.iloc[idx]['path']\n",
    "        full_path = f\"{root}/{img_path}\"\n",
    "        print(f\"Checking image: {full_path}\")\n",
    "        try:\n",
    "            with Image.open(full_path) as img:\n",
    "                img.verify()  # Verify that it is, in fact, an image\n",
    "        except Exception as e:\n",
    "            print(f\"Failed to open: {full_path} ({e})\")\n",
    "            failed.append(full_path)\n",
    "    if not failed:\n",
    "        print(\"All images opened successfully!\")\n",
    "    else:\n",
    "        print(f\"{len(failed)} images failed to open.\")\n",
    "    return failed\n",
    "\n",
    "print(\"Checking database_dataset...\")\n",
    "failed_db = check_images(database_df, PT_images)\n",
    "\n",
    "print(\"Checking query_dataset...\")\n",
    "failed_query = check_images(query_df, PT_images)"
   ]
  },
  {
   "cell_type": "markdown",
   "id": "8f189776",
   "metadata": {},
   "source": [
    "# Training"
   ]
  },
  {
   "cell_type": "code",
   "execution_count": 147,
   "id": "b4b062df",
   "metadata": {},
   "outputs": [],
   "source": [
    "\n",
    "'''\n",
    "Args:\n",
    "    margin (int): Margin for triplet loss.\n",
    "    mining (str): Type of triplet mining. One of: 'all', 'hard', 'semihard'\n",
    "    distance (str): Distance metric for triplet loss. One of: 'cosine', 'l2', 'l2_squared'''\n",
    "\n",
    "objective = TripletLoss(\n",
    "    margin=0.5,\n",
    "    mining='semihard',\n",
    "    distance='l2_squared'\n",
    ")\n",
    "\n",
    "\n",
    "\"\"\"\n",
    "Wraps Pytorch Metric Learning ArcFaceLoss.\n",
    "\n",
    "Args:\n",
    "    num_classes (int): Number of classes.\n",
    "    embedding_size (int): Size of the input embeddings.\n",
    "    margin (int): Margin for ArcFace loss (in radians).\n",
    "    scale (int): Scale parameter for ArcFace loss.\n",
    "\"\"\"\n",
    "# Define the loss function\n",
    "objective = ArcFaceLoss(\n",
    "    num_classes=database_dataset.num_classes,\n",
    "    embedding_size=backbone.config.hidden_size,\n",
    "    margin=0.5,\n",
    "    scale=64\n",
    ")\n",
    "\n",
    "objective = InfoNCELoss(temperature=0.1)\n",
    "\n",
    "params_to_train = []\n",
    "for name, param in backbone.named_parameters():\n",
    "    if param.requires_grad:\n",
    "        params_to_train.append(param)\n",
    "        # print(f\"Training parameter: {name}\")\n",
    "\n",
    "# If objective has learnable parameters (like ArcFaceLoss), add them\n",
    "if hasattr(objective, 'parameters'):\n",
    "    params_to_train.extend(objective.parameters())\n",
    "\n",
    "# Define the optimizer\n",
    "# params = itertools.chain(backbone.parameters(), objective.parameters())\n",
    "optimizer = SGD(params=params_to_train, lr=0.001, momentum=0.9)\n",
    "\n",
    "# Set the seed for reproducibility\n",
    "set_seed(0)\n",
    "epochs = 20\n",
    "# Initialize the trainer\n",
    "trainer = BasicTrainer(\n",
    "    dataset=database_dataset,\n",
    "    model=DINOv2Wrapper(backbone),\n",
    "    objective=objective,\n",
    "    optimizer=optimizer,\n",
    "    epochs=epochs,\n",
    "    device=device)"
   ]
  },
  {
   "cell_type": "code",
   "execution_count": 128,
   "id": "09dd3fbb",
   "metadata": {},
   "outputs": [
    {
     "name": "stderr",
     "output_type": "stream",
     "text": [
      "Epoch 0: 100%|████████████████████████████████████████████████████████| 2/2 [00:08<00:00,  4.42s/it]\n",
      "Epoch 1: 100%|████████████████████████████████████████████████████████| 2/2 [00:07<00:00,  3.51s/it]\n",
      "Epoch 2: 100%|████████████████████████████████████████████████████████| 2/2 [00:07<00:00,  3.63s/it]\n",
      "Epoch 3: 100%|████████████████████████████████████████████████████████| 2/2 [00:06<00:00,  3.47s/it]\n",
      "Epoch 4: 100%|████████████████████████████████████████████████████████| 2/2 [00:07<00:00,  3.51s/it]\n",
      "Epoch 5: 100%|████████████████████████████████████████████████████████| 2/2 [00:07<00:00,  3.54s/it]\n",
      "Epoch 6: 100%|████████████████████████████████████████████████████████| 2/2 [00:07<00:00,  3.78s/it]\n",
      "Epoch 7: 100%|████████████████████████████████████████████████████████| 2/2 [00:11<00:00,  5.76s/it]\n",
      "Epoch 8: 100%|████████████████████████████████████████████████████████| 2/2 [00:11<00:00,  5.53s/it]\n",
      "Epoch 9: 100%|████████████████████████████████████████████████████████| 2/2 [00:10<00:00,  5.28s/it]\n",
      "Epoch 10:  50%|███████████████████████████▌                           | 1/2 [00:08<00:08,  8.23s/it]\n"
     ]
    },
    {
     "ename": "KeyboardInterrupt",
     "evalue": "",
     "output_type": "error",
     "traceback": [
      "\u001b[31m---------------------------------------------------------------------------\u001b[39m",
      "\u001b[31mKeyboardInterrupt\u001b[39m                         Traceback (most recent call last)",
      "\u001b[36mCell\u001b[39m\u001b[36m \u001b[39m\u001b[32mIn[128]\u001b[39m\u001b[32m, line 2\u001b[39m\n\u001b[32m      1\u001b[39m \u001b[38;5;66;03m# Start training\u001b[39;00m\n\u001b[32m----> \u001b[39m\u001b[32m2\u001b[39m \u001b[43mtrainer\u001b[49m\u001b[43m.\u001b[49m\u001b[43mtrain\u001b[49m\u001b[43m(\u001b[49m\u001b[43m)\u001b[49m\n",
      "\u001b[36mFile \u001b[39m\u001b[32m~/guppies/embeddings/wildlife-tools/wildlife_tools/train/trainer.py:118\u001b[39m, in \u001b[36mBasicTrainer.train\u001b[39m\u001b[34m(self)\u001b[39m\n\u001b[32m    110\u001b[39m loader = torch.utils.data.DataLoader(\n\u001b[32m    111\u001b[39m     \u001b[38;5;28mself\u001b[39m.dataset,\n\u001b[32m    112\u001b[39m     batch_size=\u001b[38;5;28mself\u001b[39m.batch_size,\n\u001b[32m    113\u001b[39m     num_workers=\u001b[38;5;28mself\u001b[39m.num_workers,\n\u001b[32m    114\u001b[39m     shuffle=\u001b[38;5;28;01mTrue\u001b[39;00m,\n\u001b[32m    115\u001b[39m )\n\u001b[32m    117\u001b[39m \u001b[38;5;28;01mfor\u001b[39;00m e \u001b[38;5;129;01min\u001b[39;00m \u001b[38;5;28mrange\u001b[39m(\u001b[38;5;28mself\u001b[39m.epochs):\n\u001b[32m--> \u001b[39m\u001b[32m118\u001b[39m     epoch_data = \u001b[38;5;28;43mself\u001b[39;49m\u001b[43m.\u001b[49m\u001b[43mtrain_epoch\u001b[49m\u001b[43m(\u001b[49m\u001b[43mloader\u001b[49m\u001b[43m)\u001b[49m\n\u001b[32m    119\u001b[39m     \u001b[38;5;28mself\u001b[39m.epoch += \u001b[32m1\u001b[39m\n\u001b[32m    121\u001b[39m     \u001b[38;5;28;01mif\u001b[39;00m \u001b[38;5;28mself\u001b[39m.epoch_callback:\n",
      "\u001b[36mFile \u001b[39m\u001b[32m~/guppies/embeddings/wildlife-tools/wildlife_tools/train/trainer.py:127\u001b[39m, in \u001b[36mBasicTrainer.train_epoch\u001b[39m\u001b[34m(self, loader)\u001b[39m\n\u001b[32m    125\u001b[39m model = \u001b[38;5;28mself\u001b[39m.model.train()\n\u001b[32m    126\u001b[39m losses = []\n\u001b[32m--> \u001b[39m\u001b[32m127\u001b[39m \u001b[43m\u001b[49m\u001b[38;5;28;43;01mfor\u001b[39;49;00m\u001b[43m \u001b[49m\u001b[43mi\u001b[49m\u001b[43m,\u001b[49m\u001b[43m \u001b[49m\u001b[43mbatch\u001b[49m\u001b[43m \u001b[49m\u001b[38;5;129;43;01min\u001b[39;49;00m\u001b[43m \u001b[49m\u001b[38;5;28;43menumerate\u001b[39;49m\u001b[43m(\u001b[49m\u001b[43mtqdm\u001b[49m\u001b[43m(\u001b[49m\u001b[43mloader\u001b[49m\u001b[43m,\u001b[49m\u001b[43m \u001b[49m\u001b[43mdesc\u001b[49m\u001b[43m=\u001b[49m\u001b[33;43mf\u001b[39;49m\u001b[33;43m\"\u001b[39;49m\u001b[33;43mEpoch \u001b[39;49m\u001b[38;5;132;43;01m{\u001b[39;49;00m\u001b[38;5;28;43mself\u001b[39;49m\u001b[43m.\u001b[49m\u001b[43mepoch\u001b[49m\u001b[38;5;132;43;01m}\u001b[39;49;00m\u001b[33;43m: \u001b[39;49m\u001b[33;43m\"\u001b[39;49m\u001b[43m,\u001b[49m\u001b[43m \u001b[49m\u001b[43mmininterval\u001b[49m\u001b[43m=\u001b[49m\u001b[32;43m1\u001b[39;49m\u001b[43m,\u001b[49m\u001b[43m \u001b[49m\u001b[43mncols\u001b[49m\u001b[43m=\u001b[49m\u001b[32;43m100\u001b[39;49m\u001b[43m)\u001b[49m\u001b[43m)\u001b[49m\u001b[43m:\u001b[49m\n\u001b[32m    128\u001b[39m \u001b[43m    \u001b[49m\u001b[43mx\u001b[49m\u001b[43m,\u001b[49m\u001b[43m \u001b[49m\u001b[43my\u001b[49m\u001b[43m \u001b[49m\u001b[43m=\u001b[49m\u001b[43m \u001b[49m\u001b[43mbatch\u001b[49m\n\u001b[32m    129\u001b[39m \u001b[43m    \u001b[49m\u001b[43mx\u001b[49m\u001b[43m,\u001b[49m\u001b[43m \u001b[49m\u001b[43my\u001b[49m\u001b[43m \u001b[49m\u001b[43m=\u001b[49m\u001b[43m \u001b[49m\u001b[43mx\u001b[49m\u001b[43m.\u001b[49m\u001b[43mto\u001b[49m\u001b[43m(\u001b[49m\u001b[38;5;28;43mself\u001b[39;49m\u001b[43m.\u001b[49m\u001b[43mdevice\u001b[49m\u001b[43m)\u001b[49m\u001b[43m,\u001b[49m\u001b[43m \u001b[49m\u001b[43my\u001b[49m\u001b[43m.\u001b[49m\u001b[43mto\u001b[49m\u001b[43m(\u001b[49m\u001b[38;5;28;43mself\u001b[39;49m\u001b[43m.\u001b[49m\u001b[43mdevice\u001b[49m\u001b[43m)\u001b[49m\n",
      "\u001b[36mFile \u001b[39m\u001b[32m~/guppies/embeddings/wildlife-tools/.venv/lib/python3.12/site-packages/tqdm/std.py:1181\u001b[39m, in \u001b[36mtqdm.__iter__\u001b[39m\u001b[34m(self)\u001b[39m\n\u001b[32m   1178\u001b[39m time = \u001b[38;5;28mself\u001b[39m._time\n\u001b[32m   1180\u001b[39m \u001b[38;5;28;01mtry\u001b[39;00m:\n\u001b[32m-> \u001b[39m\u001b[32m1181\u001b[39m \u001b[43m    \u001b[49m\u001b[38;5;28;43;01mfor\u001b[39;49;00m\u001b[43m \u001b[49m\u001b[43mobj\u001b[49m\u001b[43m \u001b[49m\u001b[38;5;129;43;01min\u001b[39;49;00m\u001b[43m \u001b[49m\u001b[43miterable\u001b[49m\u001b[43m:\u001b[49m\n\u001b[32m   1182\u001b[39m \u001b[43m        \u001b[49m\u001b[38;5;28;43;01myield\u001b[39;49;00m\u001b[43m \u001b[49m\u001b[43mobj\u001b[49m\n\u001b[32m   1183\u001b[39m \u001b[43m        \u001b[49m\u001b[38;5;66;43;03m# Update and possibly print the progressbar.\u001b[39;49;00m\n\u001b[32m   1184\u001b[39m \u001b[43m        \u001b[49m\u001b[38;5;66;43;03m# Note: does not call self.update(1) for speed optimisation.\u001b[39;49;00m\n",
      "\u001b[36mFile \u001b[39m\u001b[32m~/guppies/embeddings/wildlife-tools/.venv/lib/python3.12/site-packages/torch/utils/data/dataloader.py:733\u001b[39m, in \u001b[36m_BaseDataLoaderIter.__next__\u001b[39m\u001b[34m(self)\u001b[39m\n\u001b[32m    730\u001b[39m \u001b[38;5;28;01mif\u001b[39;00m \u001b[38;5;28mself\u001b[39m._sampler_iter \u001b[38;5;129;01mis\u001b[39;00m \u001b[38;5;28;01mNone\u001b[39;00m:\n\u001b[32m    731\u001b[39m     \u001b[38;5;66;03m# TODO(https://github.com/pytorch/pytorch/issues/76750)\u001b[39;00m\n\u001b[32m    732\u001b[39m     \u001b[38;5;28mself\u001b[39m._reset()  \u001b[38;5;66;03m# type: ignore[call-arg]\u001b[39;00m\n\u001b[32m--> \u001b[39m\u001b[32m733\u001b[39m data = \u001b[38;5;28;43mself\u001b[39;49m\u001b[43m.\u001b[49m\u001b[43m_next_data\u001b[49m\u001b[43m(\u001b[49m\u001b[43m)\u001b[49m\n\u001b[32m    734\u001b[39m \u001b[38;5;28mself\u001b[39m._num_yielded += \u001b[32m1\u001b[39m\n\u001b[32m    735\u001b[39m \u001b[38;5;28;01mif\u001b[39;00m (\n\u001b[32m    736\u001b[39m     \u001b[38;5;28mself\u001b[39m._dataset_kind == _DatasetKind.Iterable\n\u001b[32m    737\u001b[39m     \u001b[38;5;129;01mand\u001b[39;00m \u001b[38;5;28mself\u001b[39m._IterableDataset_len_called \u001b[38;5;129;01mis\u001b[39;00m \u001b[38;5;129;01mnot\u001b[39;00m \u001b[38;5;28;01mNone\u001b[39;00m\n\u001b[32m    738\u001b[39m     \u001b[38;5;129;01mand\u001b[39;00m \u001b[38;5;28mself\u001b[39m._num_yielded > \u001b[38;5;28mself\u001b[39m._IterableDataset_len_called\n\u001b[32m    739\u001b[39m ):\n",
      "\u001b[36mFile \u001b[39m\u001b[32m~/guppies/embeddings/wildlife-tools/.venv/lib/python3.12/site-packages/torch/utils/data/dataloader.py:1491\u001b[39m, in \u001b[36m_MultiProcessingDataLoaderIter._next_data\u001b[39m\u001b[34m(self)\u001b[39m\n\u001b[32m   1488\u001b[39m     \u001b[38;5;28;01mreturn\u001b[39;00m \u001b[38;5;28mself\u001b[39m._process_data(data, worker_id)\n\u001b[32m   1490\u001b[39m \u001b[38;5;28;01massert\u001b[39;00m \u001b[38;5;129;01mnot\u001b[39;00m \u001b[38;5;28mself\u001b[39m._shutdown \u001b[38;5;129;01mand\u001b[39;00m \u001b[38;5;28mself\u001b[39m._tasks_outstanding > \u001b[32m0\u001b[39m\n\u001b[32m-> \u001b[39m\u001b[32m1491\u001b[39m idx, data = \u001b[38;5;28;43mself\u001b[39;49m\u001b[43m.\u001b[49m\u001b[43m_get_data\u001b[49m\u001b[43m(\u001b[49m\u001b[43m)\u001b[49m\n\u001b[32m   1492\u001b[39m \u001b[38;5;28mself\u001b[39m._tasks_outstanding -= \u001b[32m1\u001b[39m\n\u001b[32m   1493\u001b[39m \u001b[38;5;28;01mif\u001b[39;00m \u001b[38;5;28mself\u001b[39m._dataset_kind == _DatasetKind.Iterable:\n\u001b[32m   1494\u001b[39m     \u001b[38;5;66;03m# Check for _IterableDatasetStopIteration\u001b[39;00m\n",
      "\u001b[36mFile \u001b[39m\u001b[32m~/guppies/embeddings/wildlife-tools/.venv/lib/python3.12/site-packages/torch/utils/data/dataloader.py:1453\u001b[39m, in \u001b[36m_MultiProcessingDataLoaderIter._get_data\u001b[39m\u001b[34m(self)\u001b[39m\n\u001b[32m   1449\u001b[39m     \u001b[38;5;66;03m# In this case, `self._data_queue` is a `queue.Queue`,. But we don't\u001b[39;00m\n\u001b[32m   1450\u001b[39m     \u001b[38;5;66;03m# need to call `.task_done()` because we don't use `.join()`.\u001b[39;00m\n\u001b[32m   1451\u001b[39m \u001b[38;5;28;01melse\u001b[39;00m:\n\u001b[32m   1452\u001b[39m     \u001b[38;5;28;01mwhile\u001b[39;00m \u001b[38;5;28;01mTrue\u001b[39;00m:\n\u001b[32m-> \u001b[39m\u001b[32m1453\u001b[39m         success, data = \u001b[38;5;28;43mself\u001b[39;49m\u001b[43m.\u001b[49m\u001b[43m_try_get_data\u001b[49m\u001b[43m(\u001b[49m\u001b[43m)\u001b[49m\n\u001b[32m   1454\u001b[39m         \u001b[38;5;28;01mif\u001b[39;00m success:\n\u001b[32m   1455\u001b[39m             \u001b[38;5;28;01mreturn\u001b[39;00m data\n",
      "\u001b[36mFile \u001b[39m\u001b[32m~/guppies/embeddings/wildlife-tools/.venv/lib/python3.12/site-packages/torch/utils/data/dataloader.py:1284\u001b[39m, in \u001b[36m_MultiProcessingDataLoaderIter._try_get_data\u001b[39m\u001b[34m(self, timeout)\u001b[39m\n\u001b[32m   1271\u001b[39m \u001b[38;5;28;01mdef\u001b[39;00m\u001b[38;5;250m \u001b[39m\u001b[34m_try_get_data\u001b[39m(\u001b[38;5;28mself\u001b[39m, timeout=_utils.MP_STATUS_CHECK_INTERVAL):\n\u001b[32m   1272\u001b[39m     \u001b[38;5;66;03m# Tries to fetch data from `self._data_queue` once for a given timeout.\u001b[39;00m\n\u001b[32m   1273\u001b[39m     \u001b[38;5;66;03m# This can also be used as inner loop of fetching without timeout, with\u001b[39;00m\n\u001b[32m   (...)\u001b[39m\u001b[32m   1281\u001b[39m     \u001b[38;5;66;03m# Returns a 2-tuple:\u001b[39;00m\n\u001b[32m   1282\u001b[39m     \u001b[38;5;66;03m#   (bool: whether successfully get data, any: data if successful else None)\u001b[39;00m\n\u001b[32m   1283\u001b[39m     \u001b[38;5;28;01mtry\u001b[39;00m:\n\u001b[32m-> \u001b[39m\u001b[32m1284\u001b[39m         data = \u001b[38;5;28;43mself\u001b[39;49m\u001b[43m.\u001b[49m\u001b[43m_data_queue\u001b[49m\u001b[43m.\u001b[49m\u001b[43mget\u001b[49m\u001b[43m(\u001b[49m\u001b[43mtimeout\u001b[49m\u001b[43m=\u001b[49m\u001b[43mtimeout\u001b[49m\u001b[43m)\u001b[49m\n\u001b[32m   1285\u001b[39m         \u001b[38;5;28;01mreturn\u001b[39;00m (\u001b[38;5;28;01mTrue\u001b[39;00m, data)\n\u001b[32m   1286\u001b[39m     \u001b[38;5;28;01mexcept\u001b[39;00m \u001b[38;5;167;01mException\u001b[39;00m \u001b[38;5;28;01mas\u001b[39;00m e:\n\u001b[32m   1287\u001b[39m         \u001b[38;5;66;03m# At timeout and error, we manually check whether any worker has\u001b[39;00m\n\u001b[32m   1288\u001b[39m         \u001b[38;5;66;03m# failed. Note that this is the only mechanism for Windows to detect\u001b[39;00m\n\u001b[32m   1289\u001b[39m         \u001b[38;5;66;03m# worker failures.\u001b[39;00m\n",
      "\u001b[36mFile \u001b[39m\u001b[32m~/.local/share/uv/python/cpython-3.12.9-linux-x86_64-gnu/lib/python3.12/multiprocessing/queues.py:113\u001b[39m, in \u001b[36mQueue.get\u001b[39m\u001b[34m(self, block, timeout)\u001b[39m\n\u001b[32m    111\u001b[39m \u001b[38;5;28;01mif\u001b[39;00m block:\n\u001b[32m    112\u001b[39m     timeout = deadline - time.monotonic()\n\u001b[32m--> \u001b[39m\u001b[32m113\u001b[39m     \u001b[38;5;28;01mif\u001b[39;00m \u001b[38;5;129;01mnot\u001b[39;00m \u001b[38;5;28;43mself\u001b[39;49m\u001b[43m.\u001b[49m\u001b[43m_poll\u001b[49m\u001b[43m(\u001b[49m\u001b[43mtimeout\u001b[49m\u001b[43m)\u001b[49m:\n\u001b[32m    114\u001b[39m         \u001b[38;5;28;01mraise\u001b[39;00m Empty\n\u001b[32m    115\u001b[39m \u001b[38;5;28;01melif\u001b[39;00m \u001b[38;5;129;01mnot\u001b[39;00m \u001b[38;5;28mself\u001b[39m._poll():\n",
      "\u001b[36mFile \u001b[39m\u001b[32m~/.local/share/uv/python/cpython-3.12.9-linux-x86_64-gnu/lib/python3.12/multiprocessing/connection.py:257\u001b[39m, in \u001b[36m_ConnectionBase.poll\u001b[39m\u001b[34m(self, timeout)\u001b[39m\n\u001b[32m    255\u001b[39m \u001b[38;5;28mself\u001b[39m._check_closed()\n\u001b[32m    256\u001b[39m \u001b[38;5;28mself\u001b[39m._check_readable()\n\u001b[32m--> \u001b[39m\u001b[32m257\u001b[39m \u001b[38;5;28;01mreturn\u001b[39;00m \u001b[38;5;28;43mself\u001b[39;49m\u001b[43m.\u001b[49m\u001b[43m_poll\u001b[49m\u001b[43m(\u001b[49m\u001b[43mtimeout\u001b[49m\u001b[43m)\u001b[49m\n",
      "\u001b[36mFile \u001b[39m\u001b[32m~/.local/share/uv/python/cpython-3.12.9-linux-x86_64-gnu/lib/python3.12/multiprocessing/connection.py:440\u001b[39m, in \u001b[36mConnection._poll\u001b[39m\u001b[34m(self, timeout)\u001b[39m\n\u001b[32m    439\u001b[39m \u001b[38;5;28;01mdef\u001b[39;00m\u001b[38;5;250m \u001b[39m\u001b[34m_poll\u001b[39m(\u001b[38;5;28mself\u001b[39m, timeout):\n\u001b[32m--> \u001b[39m\u001b[32m440\u001b[39m     r = \u001b[43mwait\u001b[49m\u001b[43m(\u001b[49m\u001b[43m[\u001b[49m\u001b[38;5;28;43mself\u001b[39;49m\u001b[43m]\u001b[49m\u001b[43m,\u001b[49m\u001b[43m \u001b[49m\u001b[43mtimeout\u001b[49m\u001b[43m)\u001b[49m\n\u001b[32m    441\u001b[39m     \u001b[38;5;28;01mreturn\u001b[39;00m \u001b[38;5;28mbool\u001b[39m(r)\n",
      "\u001b[36mFile \u001b[39m\u001b[32m~/.local/share/uv/python/cpython-3.12.9-linux-x86_64-gnu/lib/python3.12/multiprocessing/connection.py:1136\u001b[39m, in \u001b[36mwait\u001b[39m\u001b[34m(object_list, timeout)\u001b[39m\n\u001b[32m   1133\u001b[39m     deadline = time.monotonic() + timeout\n\u001b[32m   1135\u001b[39m \u001b[38;5;28;01mwhile\u001b[39;00m \u001b[38;5;28;01mTrue\u001b[39;00m:\n\u001b[32m-> \u001b[39m\u001b[32m1136\u001b[39m     ready = \u001b[43mselector\u001b[49m\u001b[43m.\u001b[49m\u001b[43mselect\u001b[49m\u001b[43m(\u001b[49m\u001b[43mtimeout\u001b[49m\u001b[43m)\u001b[49m\n\u001b[32m   1137\u001b[39m     \u001b[38;5;28;01mif\u001b[39;00m ready:\n\u001b[32m   1138\u001b[39m         \u001b[38;5;28;01mreturn\u001b[39;00m [key.fileobj \u001b[38;5;28;01mfor\u001b[39;00m (key, events) \u001b[38;5;129;01min\u001b[39;00m ready]\n",
      "\u001b[36mFile \u001b[39m\u001b[32m~/.local/share/uv/python/cpython-3.12.9-linux-x86_64-gnu/lib/python3.12/selectors.py:415\u001b[39m, in \u001b[36m_PollLikeSelector.select\u001b[39m\u001b[34m(self, timeout)\u001b[39m\n\u001b[32m    413\u001b[39m ready = []\n\u001b[32m    414\u001b[39m \u001b[38;5;28;01mtry\u001b[39;00m:\n\u001b[32m--> \u001b[39m\u001b[32m415\u001b[39m     fd_event_list = \u001b[38;5;28;43mself\u001b[39;49m\u001b[43m.\u001b[49m\u001b[43m_selector\u001b[49m\u001b[43m.\u001b[49m\u001b[43mpoll\u001b[49m\u001b[43m(\u001b[49m\u001b[43mtimeout\u001b[49m\u001b[43m)\u001b[49m\n\u001b[32m    416\u001b[39m \u001b[38;5;28;01mexcept\u001b[39;00m \u001b[38;5;167;01mInterruptedError\u001b[39;00m:\n\u001b[32m    417\u001b[39m     \u001b[38;5;28;01mreturn\u001b[39;00m ready\n",
      "\u001b[31mKeyboardInterrupt\u001b[39m: "
     ]
    }
   ],
   "source": [
    "# Start training\n",
    "trainer.train()"
   ]
  },
  {
   "cell_type": "code",
   "execution_count": 110,
   "id": "9cf96685",
   "metadata": {},
   "outputs": [],
   "source": [
    "# Save the model's state_dict\n",
    "torch.save(backbone.state_dict(), PT_storage+f'/DINO_{epochs}_arcface_-2unfrozen.pth')"
   ]
  },
  {
   "cell_type": "code",
   "execution_count": 11,
   "id": "037b7cf0",
   "metadata": {},
   "outputs": [
    {
     "name": "stdout",
     "output_type": "stream",
     "text": [
      "odict_keys(['backbone.embeddings.cls_token', 'backbone.embeddings.mask_token', 'backbone.embeddings.position_embeddings', 'backbone.embeddings.patch_embeddings.projection.weight', 'backbone.embeddings.patch_embeddings.projection.bias', 'backbone.encoder.layer.0.norm1.weight', 'backbone.encoder.layer.0.norm1.bias', 'backbone.encoder.layer.0.attention.attention.query.weight', 'backbone.encoder.layer.0.attention.attention.query.bias', 'backbone.encoder.layer.0.attention.attention.key.weight', 'backbone.encoder.layer.0.attention.attention.key.bias', 'backbone.encoder.layer.0.attention.attention.value.weight', 'backbone.encoder.layer.0.attention.attention.value.bias', 'backbone.encoder.layer.0.attention.output.dense.weight', 'backbone.encoder.layer.0.attention.output.dense.bias', 'backbone.encoder.layer.0.layer_scale1.lambda1', 'backbone.encoder.layer.0.norm2.weight', 'backbone.encoder.layer.0.norm2.bias', 'backbone.encoder.layer.0.mlp.fc1.weight', 'backbone.encoder.layer.0.mlp.fc1.bias', 'backbone.encoder.layer.0.mlp.fc2.weight', 'backbone.encoder.layer.0.mlp.fc2.bias', 'backbone.encoder.layer.0.layer_scale2.lambda1', 'backbone.encoder.layer.1.norm1.weight', 'backbone.encoder.layer.1.norm1.bias', 'backbone.encoder.layer.1.attention.attention.query.weight', 'backbone.encoder.layer.1.attention.attention.query.bias', 'backbone.encoder.layer.1.attention.attention.key.weight', 'backbone.encoder.layer.1.attention.attention.key.bias', 'backbone.encoder.layer.1.attention.attention.value.weight', 'backbone.encoder.layer.1.attention.attention.value.bias', 'backbone.encoder.layer.1.attention.output.dense.weight', 'backbone.encoder.layer.1.attention.output.dense.bias', 'backbone.encoder.layer.1.layer_scale1.lambda1', 'backbone.encoder.layer.1.norm2.weight', 'backbone.encoder.layer.1.norm2.bias', 'backbone.encoder.layer.1.mlp.fc1.weight', 'backbone.encoder.layer.1.mlp.fc1.bias', 'backbone.encoder.layer.1.mlp.fc2.weight', 'backbone.encoder.layer.1.mlp.fc2.bias', 'backbone.encoder.layer.1.layer_scale2.lambda1', 'backbone.encoder.layer.2.norm1.weight', 'backbone.encoder.layer.2.norm1.bias', 'backbone.encoder.layer.2.attention.attention.query.weight', 'backbone.encoder.layer.2.attention.attention.query.bias', 'backbone.encoder.layer.2.attention.attention.key.weight', 'backbone.encoder.layer.2.attention.attention.key.bias', 'backbone.encoder.layer.2.attention.attention.value.weight', 'backbone.encoder.layer.2.attention.attention.value.bias', 'backbone.encoder.layer.2.attention.output.dense.weight', 'backbone.encoder.layer.2.attention.output.dense.bias', 'backbone.encoder.layer.2.layer_scale1.lambda1', 'backbone.encoder.layer.2.norm2.weight', 'backbone.encoder.layer.2.norm2.bias', 'backbone.encoder.layer.2.mlp.fc1.weight', 'backbone.encoder.layer.2.mlp.fc1.bias', 'backbone.encoder.layer.2.mlp.fc2.weight', 'backbone.encoder.layer.2.mlp.fc2.bias', 'backbone.encoder.layer.2.layer_scale2.lambda1', 'backbone.encoder.layer.3.norm1.weight', 'backbone.encoder.layer.3.norm1.bias', 'backbone.encoder.layer.3.attention.attention.query.weight', 'backbone.encoder.layer.3.attention.attention.query.bias', 'backbone.encoder.layer.3.attention.attention.key.weight', 'backbone.encoder.layer.3.attention.attention.key.bias', 'backbone.encoder.layer.3.attention.attention.value.weight', 'backbone.encoder.layer.3.attention.attention.value.bias', 'backbone.encoder.layer.3.attention.output.dense.weight', 'backbone.encoder.layer.3.attention.output.dense.bias', 'backbone.encoder.layer.3.layer_scale1.lambda1', 'backbone.encoder.layer.3.norm2.weight', 'backbone.encoder.layer.3.norm2.bias', 'backbone.encoder.layer.3.mlp.fc1.weight', 'backbone.encoder.layer.3.mlp.fc1.bias', 'backbone.encoder.layer.3.mlp.fc2.weight', 'backbone.encoder.layer.3.mlp.fc2.bias', 'backbone.encoder.layer.3.layer_scale2.lambda1', 'backbone.encoder.layer.4.norm1.weight', 'backbone.encoder.layer.4.norm1.bias', 'backbone.encoder.layer.4.attention.attention.query.weight', 'backbone.encoder.layer.4.attention.attention.query.bias', 'backbone.encoder.layer.4.attention.attention.key.weight', 'backbone.encoder.layer.4.attention.attention.key.bias', 'backbone.encoder.layer.4.attention.attention.value.weight', 'backbone.encoder.layer.4.attention.attention.value.bias', 'backbone.encoder.layer.4.attention.output.dense.weight', 'backbone.encoder.layer.4.attention.output.dense.bias', 'backbone.encoder.layer.4.layer_scale1.lambda1', 'backbone.encoder.layer.4.norm2.weight', 'backbone.encoder.layer.4.norm2.bias', 'backbone.encoder.layer.4.mlp.fc1.weight', 'backbone.encoder.layer.4.mlp.fc1.bias', 'backbone.encoder.layer.4.mlp.fc2.weight', 'backbone.encoder.layer.4.mlp.fc2.bias', 'backbone.encoder.layer.4.layer_scale2.lambda1', 'backbone.encoder.layer.5.norm1.weight', 'backbone.encoder.layer.5.norm1.bias', 'backbone.encoder.layer.5.attention.attention.query.weight', 'backbone.encoder.layer.5.attention.attention.query.bias', 'backbone.encoder.layer.5.attention.attention.key.weight', 'backbone.encoder.layer.5.attention.attention.key.bias', 'backbone.encoder.layer.5.attention.attention.value.weight', 'backbone.encoder.layer.5.attention.attention.value.bias', 'backbone.encoder.layer.5.attention.output.dense.weight', 'backbone.encoder.layer.5.attention.output.dense.bias', 'backbone.encoder.layer.5.layer_scale1.lambda1', 'backbone.encoder.layer.5.norm2.weight', 'backbone.encoder.layer.5.norm2.bias', 'backbone.encoder.layer.5.mlp.fc1.weight', 'backbone.encoder.layer.5.mlp.fc1.bias', 'backbone.encoder.layer.5.mlp.fc2.weight', 'backbone.encoder.layer.5.mlp.fc2.bias', 'backbone.encoder.layer.5.layer_scale2.lambda1', 'backbone.encoder.layer.6.norm1.weight', 'backbone.encoder.layer.6.norm1.bias', 'backbone.encoder.layer.6.attention.attention.query.weight', 'backbone.encoder.layer.6.attention.attention.query.bias', 'backbone.encoder.layer.6.attention.attention.key.weight', 'backbone.encoder.layer.6.attention.attention.key.bias', 'backbone.encoder.layer.6.attention.attention.value.weight', 'backbone.encoder.layer.6.attention.attention.value.bias', 'backbone.encoder.layer.6.attention.output.dense.weight', 'backbone.encoder.layer.6.attention.output.dense.bias', 'backbone.encoder.layer.6.layer_scale1.lambda1', 'backbone.encoder.layer.6.norm2.weight', 'backbone.encoder.layer.6.norm2.bias', 'backbone.encoder.layer.6.mlp.fc1.weight', 'backbone.encoder.layer.6.mlp.fc1.bias', 'backbone.encoder.layer.6.mlp.fc2.weight', 'backbone.encoder.layer.6.mlp.fc2.bias', 'backbone.encoder.layer.6.layer_scale2.lambda1', 'backbone.encoder.layer.7.norm1.weight', 'backbone.encoder.layer.7.norm1.bias', 'backbone.encoder.layer.7.attention.attention.query.weight', 'backbone.encoder.layer.7.attention.attention.query.bias', 'backbone.encoder.layer.7.attention.attention.key.weight', 'backbone.encoder.layer.7.attention.attention.key.bias', 'backbone.encoder.layer.7.attention.attention.value.weight', 'backbone.encoder.layer.7.attention.attention.value.bias', 'backbone.encoder.layer.7.attention.output.dense.weight', 'backbone.encoder.layer.7.attention.output.dense.bias', 'backbone.encoder.layer.7.layer_scale1.lambda1', 'backbone.encoder.layer.7.norm2.weight', 'backbone.encoder.layer.7.norm2.bias', 'backbone.encoder.layer.7.mlp.fc1.weight', 'backbone.encoder.layer.7.mlp.fc1.bias', 'backbone.encoder.layer.7.mlp.fc2.weight', 'backbone.encoder.layer.7.mlp.fc2.bias', 'backbone.encoder.layer.7.layer_scale2.lambda1', 'backbone.encoder.layer.8.norm1.weight', 'backbone.encoder.layer.8.norm1.bias', 'backbone.encoder.layer.8.attention.attention.query.weight', 'backbone.encoder.layer.8.attention.attention.query.bias', 'backbone.encoder.layer.8.attention.attention.key.weight', 'backbone.encoder.layer.8.attention.attention.key.bias', 'backbone.encoder.layer.8.attention.attention.value.weight', 'backbone.encoder.layer.8.attention.attention.value.bias', 'backbone.encoder.layer.8.attention.output.dense.weight', 'backbone.encoder.layer.8.attention.output.dense.bias', 'backbone.encoder.layer.8.layer_scale1.lambda1', 'backbone.encoder.layer.8.norm2.weight', 'backbone.encoder.layer.8.norm2.bias', 'backbone.encoder.layer.8.mlp.fc1.weight', 'backbone.encoder.layer.8.mlp.fc1.bias', 'backbone.encoder.layer.8.mlp.fc2.weight', 'backbone.encoder.layer.8.mlp.fc2.bias', 'backbone.encoder.layer.8.layer_scale2.lambda1', 'backbone.encoder.layer.9.norm1.weight', 'backbone.encoder.layer.9.norm1.bias', 'backbone.encoder.layer.9.attention.attention.query.weight', 'backbone.encoder.layer.9.attention.attention.query.bias', 'backbone.encoder.layer.9.attention.attention.key.weight', 'backbone.encoder.layer.9.attention.attention.key.bias', 'backbone.encoder.layer.9.attention.attention.value.weight', 'backbone.encoder.layer.9.attention.attention.value.bias', 'backbone.encoder.layer.9.attention.output.dense.weight', 'backbone.encoder.layer.9.attention.output.dense.bias', 'backbone.encoder.layer.9.layer_scale1.lambda1', 'backbone.encoder.layer.9.norm2.weight', 'backbone.encoder.layer.9.norm2.bias', 'backbone.encoder.layer.9.mlp.fc1.weight', 'backbone.encoder.layer.9.mlp.fc1.bias', 'backbone.encoder.layer.9.mlp.fc2.weight', 'backbone.encoder.layer.9.mlp.fc2.bias', 'backbone.encoder.layer.9.layer_scale2.lambda1', 'backbone.encoder.layer.10.norm1.weight', 'backbone.encoder.layer.10.norm1.bias', 'backbone.encoder.layer.10.attention.attention.query.weight', 'backbone.encoder.layer.10.attention.attention.query.bias', 'backbone.encoder.layer.10.attention.attention.key.weight', 'backbone.encoder.layer.10.attention.attention.key.bias', 'backbone.encoder.layer.10.attention.attention.value.weight', 'backbone.encoder.layer.10.attention.attention.value.bias', 'backbone.encoder.layer.10.attention.output.dense.weight', 'backbone.encoder.layer.10.attention.output.dense.bias', 'backbone.encoder.layer.10.layer_scale1.lambda1', 'backbone.encoder.layer.10.norm2.weight', 'backbone.encoder.layer.10.norm2.bias', 'backbone.encoder.layer.10.mlp.fc1.weight', 'backbone.encoder.layer.10.mlp.fc1.bias', 'backbone.encoder.layer.10.mlp.fc2.weight', 'backbone.encoder.layer.10.mlp.fc2.bias', 'backbone.encoder.layer.10.layer_scale2.lambda1', 'backbone.encoder.layer.11.norm1.weight', 'backbone.encoder.layer.11.norm1.bias', 'backbone.encoder.layer.11.attention.attention.query.weight', 'backbone.encoder.layer.11.attention.attention.query.bias', 'backbone.encoder.layer.11.attention.attention.key.weight', 'backbone.encoder.layer.11.attention.attention.key.bias', 'backbone.encoder.layer.11.attention.attention.value.weight', 'backbone.encoder.layer.11.attention.attention.value.bias', 'backbone.encoder.layer.11.attention.output.dense.weight', 'backbone.encoder.layer.11.attention.output.dense.bias', 'backbone.encoder.layer.11.layer_scale1.lambda1', 'backbone.encoder.layer.11.norm2.weight', 'backbone.encoder.layer.11.norm2.bias', 'backbone.encoder.layer.11.mlp.fc1.weight', 'backbone.encoder.layer.11.mlp.fc1.bias', 'backbone.encoder.layer.11.mlp.fc2.weight', 'backbone.encoder.layer.11.mlp.fc2.bias', 'backbone.encoder.layer.11.layer_scale2.lambda1', 'backbone.layernorm.weight', 'backbone.layernorm.bias', 'head.mlp.0.weight', 'head.mlp.0.bias', 'head.mlp.2.weight', 'head.mlp.2.bias', 'head.last.weight'])\n"
     ]
    }
   ],
   "source": [
    "# checkpoint = torch.load(PT_storage+f'/DINO_{epochs}_epoch_arcface.pth', map_location=device)\n",
    "PT_SSLDINO_100 = '/home/users/dash/guppies/embeddings/wildlife-tools/exploring/runs/run-76d175dz/teacher_epoch_9.pt'\n",
    "PT_SSLDINO_10000 = '/gws/nopw/j04/iecdt/dash/embeddings/models/run-e8dzdu9a/teacher_epoch_9.pt'\n",
    "PT_SSLDINO_100000 = '/gws/nopw/j04/iecdt/dash/embeddings/models/run-3z9528dj/teacher_epoch_9.pt'\n",
    "PT_SSLDINO_new_100 = '/gws/nopw/j04/iecdt/dash/embeddings/models/dino/unsupervised/dino-small_selfsup_100/teacher_epoch_9.pt'\n",
    "checkpoint = torch.load(PT_SSLDINO_new_100, map_location=device)\n",
    "# Load the state_dict into the backbone\n",
    "print(checkpoint.keys())\n",
    "# backbone.load_state_dict(checkpoint)"
   ]
  },
  {
   "cell_type": "code",
   "execution_count": 12,
   "id": "b7be9bd3",
   "metadata": {},
   "outputs": [
    {
     "data": {
      "text/plain": [
       "_IncompatibleKeys(missing_keys=[], unexpected_keys=['head.mlp.0.weight', 'head.mlp.0.bias', 'head.mlp.2.weight', 'head.mlp.2.bias', 'head.last.weight'])"
      ]
     },
     "execution_count": 12,
     "metadata": {},
     "output_type": "execute_result"
    }
   ],
   "source": [
    "# Remove 'backbone.' prefix from all keys in the checkpoint\n",
    "new_checkpoint = {k.replace(\"backbone.\", \"\"): v for k, v in checkpoint.items()}\n",
    "\n",
    "backbone.load_state_dict(new_checkpoint, strict=False)  # strict=False ignores unexpected keys"
   ]
  },
  {
   "cell_type": "markdown",
   "id": "49717bf9",
   "metadata": {},
   "source": [
    "# Inference"
   ]
  },
  {
   "cell_type": "code",
   "execution_count": 13,
   "id": "35e05799",
   "metadata": {},
   "outputs": [
    {
     "name": "stderr",
     "output_type": "stream",
     "text": [
      "100%|█████████████████████████████████████████████████████████████████| 3/3 [00:11<00:00,  3.87s/it]\n"
     ]
    }
   ],
   "source": [
    "model = DINOv2Wrapper(backbone)\n",
    "model.to(device)\n",
    "\n",
    "extractor = DeepFeatures(model, device=device)\n",
    "\n",
    "# Extract features\n",
    "with torch.no_grad():\n",
    "    features = extractor(database_dataset)\n"
   ]
  },
  {
   "cell_type": "code",
   "execution_count": 11,
   "id": "1389d797",
   "metadata": {},
   "outputs": [],
   "source": [
    "assert len(features) == len(database_dataset)\n",
    "assert tuple(features.features.shape) == (len(database_dataset), 384) # 768 for base model, 384 for small model"
   ]
  },
  {
   "cell_type": "code",
   "execution_count": 14,
   "id": "714318e0",
   "metadata": {},
   "outputs": [],
   "source": [
    "# Convert embeddings to NumPy array\n",
    "embeddings = features.features\n",
    "if isinstance(embeddings, torch.Tensor):\n",
    "    embeddings = embeddings.detach().cpu().numpy()\n",
    "\n",
    "# Extract labels\n",
    "labels = features.labels_string  # Assuming labels are stored here"
   ]
  },
  {
   "cell_type": "markdown",
   "id": "3fcc6b48",
   "metadata": {},
   "source": [
    "# TSNE"
   ]
  },
  {
   "cell_type": "code",
   "execution_count": 15,
   "id": "f8d2ee53",
   "metadata": {},
   "outputs": [],
   "source": [
    "from sklearn.manifold import TSNE\n",
    "\n",
    "# Determine the number of samples\n",
    "n_samples = embeddings.shape[0]\n",
    "\n",
    "# Set perplexity to a value less than n_samples\n",
    "perplexity_value = min(5, n_samples - 1)\n",
    "\n",
    "# Initialize and fit t-SNE\n",
    "tsne = TSNE(n_components=2, random_state=42, perplexity=perplexity_value)\n",
    "embeddings_2d = tsne.fit_transform(embeddings)\n"
   ]
  },
  {
   "cell_type": "code",
   "execution_count": 16,
   "id": "5944c96e",
   "metadata": {},
   "outputs": [
    {
     "data": {
      "image/png": "[encoded data removed]",
      "text/plain": [
       "<Figure size 1000x800 with 1 Axes>"
      ]
     },
     "metadata": {},
     "output_type": "display_data"
    }
   ],
   "source": [
    "import matplotlib.pyplot as plt\n",
    "import random\n",
    "\n",
    "plt.figure(figsize=(10, 8))\n",
    "unique_labels = set(labels)\n",
    "# for label in unique_labels:\n",
    "#     indices = [i for i, l in enumerate(labels) if l == label]\n",
    "#     plt.scatter(embeddings_2d[indices, 0], embeddings_2d[indices, 1], label=label)\n",
    "\n",
    "# Select 10 random labels from unique_labels\n",
    "random_labels = random.sample(list(unique_labels), 10)\n",
    "\n",
    "for label in random_labels:\n",
    "    indices = [i for i, l in enumerate(labels) if l == label]\n",
    "    plt.scatter(embeddings_2d[indices, 0], embeddings_2d[indices, 1], label=label)\n",
    "\n",
    "plt.legend()\n",
    "plt.title('t-SNE Visualization of Embeddings')\n",
    "plt.xlabel('Component 1')\n",
    "plt.ylabel('Component 2')\n",
    "plt.show()\n"
   ]
  },
  {
   "cell_type": "code",
   "execution_count": 17,
   "id": "f554f9f7",
   "metadata": {},
   "outputs": [
    {
     "name": "stderr",
     "output_type": "stream",
     "text": [
      "100%|█████████████████████████████████████████████████████████████████| 1/1 [00:01<00:00,  1.72s/it]\n"
     ]
    }
   ],
   "source": [
    "from wildlife_tools.similarity import CosineSimilarity\n",
    "from wildlife_tools.inference import KnnClassifier\n",
    "import numpy as np\n",
    "\n",
    "\n",
    "\n",
    "# Extract features\n",
    "query_features = extractor(query_dataset)\n",
    "database_features = features\n",
    "# database_features = extractor(database_dataset)\n"
   ]
  },
  {
   "cell_type": "markdown",
   "id": "aa00beb7",
   "metadata": {},
   "source": [
    "# Cosine similarity"
   ]
  },
  {
   "cell_type": "code",
   "execution_count": 18,
   "id": "ca8dd504",
   "metadata": {},
   "outputs": [
    {
     "name": "stdout",
     "output_type": "stream",
     "text": [
      "1-NN Classification Accuracy: 14.71%\n"
     ]
    }
   ],
   "source": [
    "\n",
    "# Compute cosine similarity\n",
    "similarity_function = CosineSimilarity()\n",
    "similarity = similarity_function(query_features, database_features)\n",
    "\n",
    "# Perform 1-NN classification\n",
    "classifier = KnnClassifier(k=1, database_labels=database_dataset.labels_string)\n",
    "predictions = classifier(similarity)\n",
    "\n",
    "# Evaluate accuracy\n",
    "accuracy = np.mean(np.array(query_dataset.labels_string) == np.array(predictions))\n",
    "print(f'1-NN Classification Accuracy: {accuracy:.2%}')\n"
   ]
  },
  {
   "cell_type": "code",
   "execution_count": 17,
   "id": "eef4fdbe",
   "metadata": {},
   "outputs": [
    {
     "name": "stdout",
     "output_type": "stream",
     "text": [
      "Average similarity within the same identity: 0.9989\n",
      "Average similarity between different identities: 0.9987\n"
     ]
    }
   ],
   "source": [
    "from collections import defaultdict\n",
    "from sklearn.metrics.pairwise import cosine_similarity\n",
    "\n",
    "similarity_matrix = cosine_similarity(embeddings)\n",
    "# Initialize dictionaries to hold similarities\n",
    "same_identity_sims = defaultdict(list)\n",
    "different_identity_sims = defaultdict(list)\n",
    "\n",
    "num_embeddings = len(embeddings)\n",
    "\n",
    "for i in range(num_embeddings):\n",
    "    for j in range(i + 1, num_embeddings):\n",
    "        sim = similarity_matrix[i][j]\n",
    "        if labels[i] == labels[j]:\n",
    "            same_identity_sims[labels[i]].append(sim)\n",
    "        else:\n",
    "            key = f\"{labels[i]} vs {labels[j]}\"\n",
    "            different_identity_sims[key].append(sim)\n",
    "\n",
    "# Compute average similarities\n",
    "avg_same_identity_sim = np.mean([np.mean(sims) for sims in same_identity_sims.values()])\n",
    "avg_different_identity_sim = np.mean([np.mean(sims) for sims in different_identity_sims.values()])\n",
    "\n",
    "print(f\"Average similarity within the same identity: {avg_same_identity_sim:.4f}\")\n",
    "print(f\"Average similarity between different identities: {avg_different_identity_sim:.4f}\")"
   ]
  },
  {
   "cell_type": "code",
   "execution_count": 18,
   "id": "ad69e723",
   "metadata": {},
   "outputs": [
    {
     "data": {
      "image/png": "[encoded data removed]",
      "text/plain": [
       "<Figure size 1200x600 with 1 Axes>"
      ]
     },
     "metadata": {},
     "output_type": "display_data"
    }
   ],
   "source": [
    "plt.figure(figsize=(12, 6))\n",
    "\n",
    "# Flatten the lists of similarities\n",
    "same_identity_flat = [sim for sims in same_identity_sims.values() for sim in sims]\n",
    "different_identity_flat = [sim for sims in different_identity_sims.values() for sim in sims]\n",
    "\n",
    "# Plot histograms\n",
    "plt.hist(same_identity_flat, bins=50, alpha=0.7, label='Same Identity', color='blue', density=True)\n",
    "plt.hist(different_identity_flat, bins=50, alpha=0.7, label='Different Identity', color='orange', density=True)\n",
    "\n",
    "# Add labels and legend\n",
    "plt.title('Distribution of Similarities')\n",
    "plt.xlabel('Similarity')\n",
    "plt.ylabel('Density')\n",
    "plt.legend()\n",
    "\n",
    "plt.show()"
   ]
  },
  {
   "cell_type": "markdown",
   "id": "17e37c78",
   "metadata": {},
   "source": [
    "# euclidean distance"
   ]
  },
  {
   "cell_type": "code",
   "execution_count": 19,
   "id": "a8f387f4",
   "metadata": {},
   "outputs": [],
   "source": [
    "from scipy.spatial.distance import cdist\n",
    "\n",
    "# Calculate pairwise distances\n",
    "distances = cdist(query_features.features, database_features.features, metric='euclidean')"
   ]
  },
  {
   "cell_type": "code",
   "execution_count": 20,
   "id": "b575760e",
   "metadata": {},
   "outputs": [],
   "source": [
    "from sklearn.preprocessing import MinMaxScaler\n",
    "\n",
    "# Normalize distances using Min-Max scaling\n",
    "scaler = MinMaxScaler()\n",
    "normalized_distances = scaler.fit_transform(distances)"
   ]
  },
  {
   "cell_type": "code",
   "execution_count": 21,
   "id": "1d21ad32",
   "metadata": {},
   "outputs": [
    {
     "name": "stdout",
     "output_type": "stream",
     "text": [
      "1-NN Classification Accuracy (using distances): 3.49%\n"
     ]
    }
   ],
   "source": [
    "# For each query, find the database sample with the smallest distance (1-NN)\n",
    "knn_predictions = []\n",
    "for i in range(distances.shape[0]):\n",
    "    min_idx = np.argmin(distances[i])\n",
    "    knn_predictions.append(database_dataset.labels_string[min_idx])\n",
    "\n",
    "# Calculate accuracy\n",
    "knn_accuracy = np.mean(np.array(query_dataset.labels_string) == np.array(knn_predictions))\n",
    "print(f'1-NN Classification Accuracy (using distances): {knn_accuracy:.2%}')"
   ]
  }
 ],
 "metadata": {
  "kernelspec": {
   "display_name": "wildlife-tools",
   "language": "python",
   "name": "python3"
  },
  "language_info": {
   "codemirror_mode": {
    "name": "ipython",
    "version": 3
   },
   "file_extension": ".py",
   "mimetype": "text/x-python",
   "name": "python",
   "nbconvert_exporter": "python",
   "pygments_lexer": "ipython3",
   "version": "3.12.9"
  }
 },
 "nbformat": 4,
 "nbformat_minor": 5
}

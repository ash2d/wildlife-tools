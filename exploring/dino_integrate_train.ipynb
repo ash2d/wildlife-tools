{
 "cells": [
  {
   "cell_type": "code",
   "execution_count": 97,
   "id": "4d8895aa",
   "metadata": {},
   "outputs": [],
   "source": [
    "import pandas as pd\n",
    "import numpy as np\n",
    "import timm\n",
    "import torchvision.transforms as T\n",
    "import torch\n",
    "import itertools\n",
    "from torch.optim import SGD\n",
    "from transformers import AutoImageProcessor, AutoModel\n",
    "import torch.nn as nn\n",
    "\n",
    "from wildlife_tools.train import ArcFaceLoss, BasicTrainer, set_seed, TripletLoss\n",
    "from wildlife_tools.features import DeepFeatures\n",
    "from wildlife_tools.data import ImageDataset\n"
   ]
  },
  {
   "cell_type": "code",
   "execution_count": 98,
   "id": "66faab7f",
   "metadata": {},
   "outputs": [
    {
     "data": {
      "text/html": [
       "<div>\n",
       "<style scoped>\n",
       "    .dataframe tbody tr th:only-of-type {\n",
       "        vertical-align: middle;\n",
       "    }\n",
       "\n",
       "    .dataframe tbody tr th {\n",
       "        vertical-align: top;\n",
       "    }\n",
       "\n",
       "    .dataframe thead th {\n",
       "        text-align: right;\n",
       "    }\n",
       "</style>\n",
       "<table border=\"1\" class=\"dataframe\">\n",
       "  <thead>\n",
       "    <tr style=\"text-align: right;\">\n",
       "      <th></th>\n",
       "      <th>identity</th>\n",
       "      <th>path</th>\n",
       "      <th>date</th>\n",
       "    </tr>\n",
       "  </thead>\n",
       "  <tbody>\n",
       "    <tr>\n",
       "      <th>0</th>\n",
       "      <td>63498</td>\n",
       "      <td>1706/Lower Lalaja/29A/DCIM/121D7100/DSC_8870.png</td>\n",
       "      <td>2017-06-29</td>\n",
       "    </tr>\n",
       "    <tr>\n",
       "      <th>1</th>\n",
       "      <td>63498</td>\n",
       "      <td>1803/LL/26B/123D7100/DSC_3857.png</td>\n",
       "      <td>2018-03-26</td>\n",
       "    </tr>\n",
       "    <tr>\n",
       "      <th>2</th>\n",
       "      <td>63498</td>\n",
       "      <td>1804/LL/27B/DSC_5389.png</td>\n",
       "      <td>2018-04-27</td>\n",
       "    </tr>\n",
       "    <tr>\n",
       "      <th>3</th>\n",
       "      <td>63498</td>\n",
       "      <td>1802/LL/26B/DSC_0428.png</td>\n",
       "      <td>2018-02-26</td>\n",
       "    </tr>\n",
       "    <tr>\n",
       "      <th>4</th>\n",
       "      <td>63498</td>\n",
       "      <td>1806/LL/28A/100D7100/DSC_9352.png</td>\n",
       "      <td>2018-06-28</td>\n",
       "    </tr>\n",
       "  </tbody>\n",
       "</table>\n",
       "</div>"
      ],
      "text/plain": [
       "   identity                                              path        date\n",
       "0     63498  1706/Lower Lalaja/29A/DCIM/121D7100/DSC_8870.png  2017-06-29\n",
       "1     63498                 1803/LL/26B/123D7100/DSC_3857.png  2018-03-26\n",
       "2     63498                          1804/LL/27B/DSC_5389.png  2018-04-27\n",
       "3     63498                          1802/LL/26B/DSC_0428.png  2018-02-26\n",
       "4     63498                 1806/LL/28A/100D7100/DSC_9352.png  2018-06-28"
      ]
     },
     "execution_count": 98,
     "metadata": {},
     "output_type": "execute_result"
    }
   ],
   "source": [
    "\n",
    "\n",
    "# Load metadata\n",
    "PT_CSV = '/Users/ash/phd/guppies/coding/wildlife-tools/exploring/top_10_individuals.csv'\n",
    "PT_images = '/Users/ash/phd/guppies/data/test_imgs_blacked'\n",
    "PT_storage = '/Users/ash/phd/guppies/coding/wildlife-tools/exploring/models'\n",
    "df = pd.read_csv(PT_CSV)\n",
    "# df['path'] = df['path'].str.replace('.JPG', '.png', case=False)\n",
    "# df.to_csv(PT_CSV, index=False)\n",
    "df.head()"
   ]
  },
  {
   "cell_type": "markdown",
   "id": "1116a637",
   "metadata": {},
   "source": [
    "# Model setup"
   ]
  },
  {
   "cell_type": "code",
   "execution_count": 99,
   "id": "ffceae2b",
   "metadata": {},
   "outputs": [],
   "source": [
    "# Load the MegaDescriptor model\n",
    "# backbone = timm.create_model('hf-hub:BVRA/MegaDescriptor-L-384', pretrained=True, num_classes=0)\n",
    "# backbone = timm.create_model('hf-hub:BVRA/MegaDescriptor-T-224', pretrained=True, num_classes=0)\n",
    "\n",
    "\n",
    "# Load the processor and model\n",
    "processor = AutoImageProcessor.from_pretrained('facebook/dinov2-small', use_fast=True)\n",
    "backbone = AutoModel.from_pretrained('facebook/dinov2-small')\n"
   ]
  },
  {
   "cell_type": "code",
   "execution_count": 100,
   "id": "827a38ac",
   "metadata": {},
   "outputs": [],
   "source": [
    "\n",
    "# Define image transformations\n",
    "transform = T.Compose([\n",
    "    T.Resize((224, 224)),  # Resize to match MegaDescriptor-L-384 input\n",
    "    T.ToTensor(),\n",
    "    T.Normalize(mean=[0.5, 0.5, 0.5], std=[0.5, 0.5, 0.5])\n",
    "])\n",
    "transform_dino = T.Compose([\n",
    "    T.Resize((224, 224)),\n",
    "    T.ToTensor(),\n",
    "    T.Normalize(mean=processor.image_mean, std=processor.image_std)\n",
    "])\n",
    "\n",
    "# Create the dataset\n",
    "# Split dataset into query and database sets\n",
    "query_df = df.sample(frac=0.2, random_state=42)\n",
    "database_df = df.drop(query_df.index)\n",
    "\n",
    "# Create ImageDataset instances\n",
    "query_dataset = ImageDataset(query_df, root=PT_images, transform=transform_dino)\n",
    "database_dataset = ImageDataset(database_df, root=PT_images, transform=transform_dino)"
   ]
  },
  {
   "cell_type": "code",
   "execution_count": 101,
   "id": "97c3400c",
   "metadata": {},
   "outputs": [],
   "source": [
    "# Define a wrapper to extract features\n",
    "class DINOv2Wrapper(nn.Module):\n",
    "    def __init__(self, backbone):\n",
    "        super().__init__()\n",
    "        self.backbone = backbone\n",
    "\n",
    "    def forward(self, x):\n",
    "        # Extract the last hidden state\n",
    "        outputs = self.backbone(x)\n",
    "        # Use the [CLS] token representation\n",
    "        return outputs.last_hidden_state[:, 0]"
   ]
  },
  {
   "cell_type": "code",
   "execution_count": 102,
   "id": "059e7fb1",
   "metadata": {},
   "outputs": [],
   "source": [
    "device = 'cpu'"
   ]
  },
  {
   "cell_type": "markdown",
   "id": "8f189776",
   "metadata": {},
   "source": [
    "# Training"
   ]
  },
  {
   "cell_type": "code",
   "execution_count": 81,
   "id": "b4b062df",
   "metadata": {},
   "outputs": [],
   "source": [
    "\"\"\"\n",
    "Wraps Pytorch Metric Learning ArcFaceLoss.\n",
    "\n",
    "Args:\n",
    "    num_classes (int): Number of classes.\n",
    "    embedding_size (int): Size of the input embeddings.\n",
    "    margin (int): Margin for ArcFace loss (in radians).\n",
    "    scale (int): Scale parameter for ArcFace loss.\n",
    "\"\"\"\n",
    "# Define the loss function\n",
    "objective = ArcFaceLoss(\n",
    "    num_classes=database_dataset.num_classes,\n",
    "    embedding_size=backbone.config.hidden_size,\n",
    "    margin=0.5,\n",
    "    scale=64\n",
    ")\n",
    "\n",
    "\n",
    "'''\n",
    "Args:\n",
    "    margin (int): Margin for triplet loss.\n",
    "    mining (str): Type of triplet mining. One of: 'all', 'hard', 'semihard'\n",
    "    distance (str): Distance metric for triplet loss. One of: 'cosine', 'l2', 'l2_squared'''\n",
    "\n",
    "objective = TripletLoss(\n",
    "    margin=0.5,\n",
    "    mining='semihard',\n",
    "    distance='l2_squared'\n",
    ")\n",
    "\n",
    "\n",
    "# Define the optimizer\n",
    "params = itertools.chain(backbone.parameters(), objective.parameters())\n",
    "optimizer = SGD(params=params, lr=0.001, momentum=0.9)\n",
    "\n",
    "# Set the seed for reproducibility\n",
    "set_seed(0)\n",
    "\n",
    "# Initialize the trainer\n",
    "trainer = BasicTrainer(\n",
    "    dataset=database_dataset,\n",
    "    model=DINOv2Wrapper(backbone),\n",
    "    objective=objective,\n",
    "    optimizer=optimizer,\n",
    "    epochs=3,\n",
    "    device='cpu')"
   ]
  },
  {
   "cell_type": "code",
   "execution_count": 82,
   "id": "09dd3fbb",
   "metadata": {},
   "outputs": [
    {
     "name": "stderr",
     "output_type": "stream",
     "text": [
      "Epoch 0: 100%|████████████████████████████████████████████████████████| 2/2 [00:35<00:00, 17.87s/it]\n",
      "Epoch 1: 100%|████████████████████████████████████████████████████████| 2/2 [00:30<00:00, 15.06s/it]\n",
      "Epoch 2: 100%|████████████████████████████████████████████████████████| 2/2 [00:33<00:00, 16.58s/it]\n"
     ]
    }
   ],
   "source": [
    "# Start training\n",
    "trainer.train()"
   ]
  },
  {
   "cell_type": "code",
   "execution_count": 83,
   "id": "9cf96685",
   "metadata": {},
   "outputs": [],
   "source": [
    "# Save the model's state_dict\n",
    "torch.save(backbone.state_dict(), PT_storage+'/DINO_5_epoch.pth')"
   ]
  },
  {
   "cell_type": "markdown",
   "id": "49717bf9",
   "metadata": {},
   "source": [
    "# Inference"
   ]
  },
  {
   "cell_type": "code",
   "execution_count": 103,
   "id": "35e05799",
   "metadata": {},
   "outputs": [
    {
     "name": "stderr",
     "output_type": "stream",
     "text": [
      "100%|█████████████████████████████████████████████████████████████████| 2/2 [00:15<00:00,  7.90s/it]\n"
     ]
    }
   ],
   "source": [
    "model = DINOv2Wrapper(backbone)\n",
    "model.to(device)\n",
    "\n",
    "extractor = DeepFeatures(model, device=device)\n",
    "\n",
    "# Extract features\n",
    "with torch.no_grad():\n",
    "    features = extractor(database_dataset)\n"
   ]
  },
  {
   "cell_type": "code",
   "execution_count": 104,
   "id": "1389d797",
   "metadata": {},
   "outputs": [],
   "source": [
    "assert len(features) == len(database_dataset)\n",
    "assert tuple(features.features.shape) == (len(database_dataset), 384) # 768 for base model, 384 for small model"
   ]
  },
  {
   "cell_type": "code",
   "execution_count": 105,
   "id": "714318e0",
   "metadata": {},
   "outputs": [],
   "source": [
    "# Convert embeddings to NumPy array\n",
    "embeddings = features.features\n",
    "if isinstance(embeddings, torch.Tensor):\n",
    "    embeddings = embeddings.detach().cpu().numpy()\n",
    "\n",
    "# Extract labels\n",
    "labels = features.labels_string  # Assuming labels are stored here"
   ]
  },
  {
   "cell_type": "markdown",
   "id": "3fcc6b48",
   "metadata": {},
   "source": [
    "# TSNE"
   ]
  },
  {
   "cell_type": "code",
   "execution_count": 106,
   "id": "f8d2ee53",
   "metadata": {},
   "outputs": [],
   "source": [
    "from sklearn.manifold import TSNE\n",
    "\n",
    "# Determine the number of samples\n",
    "n_samples = embeddings.shape[0]\n",
    "\n",
    "# Set perplexity to a value less than n_samples\n",
    "perplexity_value = min(5, n_samples - 1)\n",
    "\n",
    "# Initialize and fit t-SNE\n",
    "tsne = TSNE(n_components=2, random_state=42, perplexity=perplexity_value)\n",
    "embeddings_2d = tsne.fit_transform(embeddings)\n"
   ]
  },
  {
   "cell_type": "code",
   "execution_count": 107,
   "id": "5944c96e",
   "metadata": {},
   "outputs": [
    {
     "data": {
      "image/png": "[encoded data removed]",
      "text/plain": [
       "<Figure size 1000x800 with 1 Axes>"
      ]
     },
     "metadata": {},
     "output_type": "display_data"
    }
   ],
   "source": [
    "import matplotlib.pyplot as plt\n",
    "\n",
    "plt.figure(figsize=(10, 8))\n",
    "unique_labels = set(labels)\n",
    "for label in unique_labels:\n",
    "    indices = [i for i, l in enumerate(labels) if l == label]\n",
    "    plt.scatter(embeddings_2d[indices, 0], embeddings_2d[indices, 1], label=label)\n",
    "\n",
    "plt.legend()\n",
    "plt.title('t-SNE Visualization of Embeddings')\n",
    "plt.xlabel('Component 1')\n",
    "plt.ylabel('Component 2')\n",
    "plt.show()\n"
   ]
  },
  {
   "cell_type": "code",
   "execution_count": 108,
   "id": "f554f9f7",
   "metadata": {},
   "outputs": [
    {
     "name": "stderr",
     "output_type": "stream",
     "text": [
      "100%|█████████████████████████████████████████████████████████████████| 1/1 [00:10<00:00, 10.66s/it]\n"
     ]
    }
   ],
   "source": [
    "from wildlife_tools.similarity import CosineSimilarity\n",
    "from wildlife_tools.inference import KnnClassifier\n",
    "import numpy as np\n",
    "\n",
    "\n",
    "\n",
    "# Extract features\n",
    "query_features = extractor(query_dataset)\n",
    "database_features = features\n",
    "# database_features = extractor(database_dataset)\n"
   ]
  },
  {
   "cell_type": "markdown",
   "id": "aa00beb7",
   "metadata": {},
   "source": [
    "# Cosine similarity"
   ]
  },
  {
   "cell_type": "code",
   "execution_count": 109,
   "id": "ca8dd504",
   "metadata": {},
   "outputs": [
    {
     "name": "stdout",
     "output_type": "stream",
     "text": [
      "1-NN Classification Accuracy: 55.74%\n"
     ]
    }
   ],
   "source": [
    "\n",
    "# Compute cosine similarity\n",
    "similarity_function = CosineSimilarity()\n",
    "similarity = similarity_function(query_features, database_features)\n",
    "\n",
    "# Perform 1-NN classification\n",
    "classifier = KnnClassifier(k=1, database_labels=database_dataset.labels_string)\n",
    "predictions = classifier(similarity)\n",
    "\n",
    "# Evaluate accuracy\n",
    "accuracy = np.mean(np.array(query_dataset.labels_string) == np.array(predictions))\n",
    "print(f'1-NN Classification Accuracy: {accuracy:.2%}')\n"
   ]
  },
  {
   "cell_type": "code",
   "execution_count": 110,
   "id": "eef4fdbe",
   "metadata": {},
   "outputs": [
    {
     "name": "stdout",
     "output_type": "stream",
     "text": [
      "Average similarity within the same identity: 0.9189\n",
      "Average similarity between different identities: 0.9049\n"
     ]
    }
   ],
   "source": [
    "from collections import defaultdict\n",
    "from sklearn.metrics.pairwise import cosine_similarity\n",
    "\n",
    "similarity_matrix = cosine_similarity(embeddings)\n",
    "# Initialize dictionaries to hold similarities\n",
    "same_identity_sims = defaultdict(list)\n",
    "different_identity_sims = defaultdict(list)\n",
    "\n",
    "num_embeddings = len(embeddings)\n",
    "\n",
    "for i in range(num_embeddings):\n",
    "    for j in range(i + 1, num_embeddings):\n",
    "        sim = similarity_matrix[i][j]\n",
    "        if labels[i] == labels[j]:\n",
    "            same_identity_sims[labels[i]].append(sim)\n",
    "        else:\n",
    "            key = f\"{labels[i]} vs {labels[j]}\"\n",
    "            different_identity_sims[key].append(sim)\n",
    "\n",
    "# Compute average similarities\n",
    "avg_same_identity_sim = np.mean([np.mean(sims) for sims in same_identity_sims.values()])\n",
    "avg_different_identity_sim = np.mean([np.mean(sims) for sims in different_identity_sims.values()])\n",
    "\n",
    "print(f\"Average similarity within the same identity: {avg_same_identity_sim:.4f}\")\n",
    "print(f\"Average similarity between different identities: {avg_different_identity_sim:.4f}\")"
   ]
  },
  {
   "cell_type": "code",
   "execution_count": 111,
   "id": "ad69e723",
   "metadata": {},
   "outputs": [
    {
     "data": {
      "image/png": "[encoded data removed]",
      "text/plain": [
       "<Figure size 1200x600 with 1 Axes>"
      ]
     },
     "metadata": {},
     "output_type": "display_data"
    }
   ],
   "source": [
    "plt.figure(figsize=(12, 6))\n",
    "\n",
    "# Flatten the lists of similarities\n",
    "same_identity_flat = [sim for sims in same_identity_sims.values() for sim in sims]\n",
    "different_identity_flat = [sim for sims in different_identity_sims.values() for sim in sims]\n",
    "\n",
    "# Plot histograms\n",
    "plt.hist(same_identity_flat, bins=50, alpha=0.7, label='Same Identity', color='blue', density=True)\n",
    "plt.hist(different_identity_flat, bins=50, alpha=0.7, label='Different Identity', color='orange', density=True)\n",
    "\n",
    "# Add labels and legend\n",
    "plt.title('Distribution of Similarities')\n",
    "plt.xlabel('Similarity')\n",
    "plt.ylabel('Density')\n",
    "plt.legend()\n",
    "\n",
    "plt.show()"
   ]
  },
  {
   "cell_type": "markdown",
   "id": "17e37c78",
   "metadata": {},
   "source": [
    "# euclidean distance"
   ]
  },
  {
   "cell_type": "code",
   "execution_count": 112,
   "id": "a8f387f4",
   "metadata": {},
   "outputs": [],
   "source": [
    "from scipy.spatial.distance import cdist\n",
    "\n",
    "# Calculate pairwise distances\n",
    "# Yes, if you want to compute distances between the query and database embeddings (not within the same set), you should do:\n",
    "distances = cdist(query_features.features, database_features.features, metric='euclidean')"
   ]
  },
  {
   "cell_type": "code",
   "execution_count": 113,
   "id": "b575760e",
   "metadata": {},
   "outputs": [],
   "source": [
    "from sklearn.preprocessing import MinMaxScaler\n",
    "\n",
    "# Normalize distances using Min-Max scaling\n",
    "scaler = MinMaxScaler()\n",
    "normalized_distances = scaler.fit_transform(distances)"
   ]
  },
  {
   "cell_type": "code",
   "execution_count": 114,
   "id": "1d21ad32",
   "metadata": {},
   "outputs": [
    {
     "name": "stdout",
     "output_type": "stream",
     "text": [
      "1-NN Classification Accuracy (using distances): 55.74%\n"
     ]
    }
   ],
   "source": [
    "# For each query, find the database sample with the smallest distance (1-NN)\n",
    "knn_predictions = []\n",
    "for i in range(distances.shape[0]):\n",
    "    min_idx = np.argmin(distances[i])\n",
    "    knn_predictions.append(database_dataset.labels_string[min_idx])\n",
    "\n",
    "# Calculate accuracy\n",
    "knn_accuracy = np.mean(np.array(query_dataset.labels_string) == np.array(knn_predictions))\n",
    "print(f'1-NN Classification Accuracy (using distances): {knn_accuracy:.2%}')"
   ]
  }
 ],
 "metadata": {
  "kernelspec": {
   "display_name": ".venv",
   "language": "python",
   "name": "python3"
  },
  "language_info": {
   "codemirror_mode": {
    "name": "ipython",
    "version": 3
   },
   "file_extension": ".py",
   "mimetype": "text/x-python",
   "name": "python",
   "nbconvert_exporter": "python",
   "pygments_lexer": "ipython3",
   "version": "3.11.12"
  }
 },
 "nbformat": 4,
 "nbformat_minor": 5
}

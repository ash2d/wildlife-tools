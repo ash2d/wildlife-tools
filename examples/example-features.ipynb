{
 "cells": [
  {
   "cell_type": "code",
   "execution_count": 1,
   "id": "f4716800",
   "metadata": {},
   "outputs": [
    {
     "name": "stderr",
     "output_type": "stream",
     "text": [
      "/Users/ash/phd/guppies/coding/wildlife-tools/.venv/lib/python3.11/site-packages/tqdm/auto.py:21: TqdmWarning: IProgress not found. Please update jupyter and ipywidgets. See https://ipywidgets.readthedocs.io/en/stable/user_install.html\n",
      "  from .autonotebook import tqdm as notebook_tqdm\n"
     ]
    }
   ],
   "source": [
    "import pandas as pd\n",
    "import numpy as np\n",
    "import timm\n",
    "import torchvision.transforms as T\n",
    "import torch\n",
    "\n",
    "from wildlife_tools.features import SuperPointExtractor, SiftExtractor, DiskExtractor, AlikedExtractor, DeepFeatures\n",
    "from wildlife_tools.data import ImageDataset\n",
    "\n",
    "metadata = {'metadata':  pd.read_csv('../tests/TestDataset/metadata.csv'), 'root': '../tests/TestDataset'}\n",
    "transform = T.Compose([T.Resize([224, 224]), T.ToTensor()])\n",
    "dataset = ImageDataset(**metadata, transform=transform)\n"
   ]
  },
  {
   "cell_type": "code",
   "execution_count": 3,
   "id": "df7e1b0b",
   "metadata": {},
   "outputs": [
    {
     "data": {
      "text/html": [
       "<div>\n",
       "<style scoped>\n",
       "    .dataframe tbody tr th:only-of-type {\n",
       "        vertical-align: middle;\n",
       "    }\n",
       "\n",
       "    .dataframe tbody tr th {\n",
       "        vertical-align: top;\n",
       "    }\n",
       "\n",
       "    .dataframe thead th {\n",
       "        text-align: right;\n",
       "    }\n",
       "</style>\n",
       "<table border=\"1\" class=\"dataframe\">\n",
       "  <thead>\n",
       "    <tr style=\"text-align: right;\">\n",
       "      <th></th>\n",
       "      <th>image_id</th>\n",
       "      <th>identity</th>\n",
       "      <th>path</th>\n",
       "      <th>split</th>\n",
       "    </tr>\n",
       "  </thead>\n",
       "  <tbody>\n",
       "    <tr>\n",
       "      <th>0</th>\n",
       "      <td>image_1</td>\n",
       "      <td>a</td>\n",
       "      <td>images/identity_a/image_1.JPG</td>\n",
       "      <td>train</td>\n",
       "    </tr>\n",
       "    <tr>\n",
       "      <th>1</th>\n",
       "      <td>image_2</td>\n",
       "      <td>a</td>\n",
       "      <td>images/identity_a/image_2.JPG</td>\n",
       "      <td>test</td>\n",
       "    </tr>\n",
       "    <tr>\n",
       "      <th>2</th>\n",
       "      <td>image_3</td>\n",
       "      <td>b</td>\n",
       "      <td>images/identity_b/image_3.JPG</td>\n",
       "      <td>train</td>\n",
       "    </tr>\n",
       "    <tr>\n",
       "      <th>3</th>\n",
       "      <td>image_4</td>\n",
       "      <td>b</td>\n",
       "      <td>images/identity_b/image_4.JPG</td>\n",
       "      <td>test</td>\n",
       "    </tr>\n",
       "  </tbody>\n",
       "</table>\n",
       "</div>"
      ],
      "text/plain": [
       "  image_id identity                           path  split\n",
       "0  image_1        a  images/identity_a/image_1.JPG  train\n",
       "1  image_2        a  images/identity_a/image_2.JPG   test\n",
       "2  image_3        b  images/identity_b/image_3.JPG  train\n",
       "3  image_4        b  images/identity_b/image_4.JPG   test"
      ]
     },
     "execution_count": 3,
     "metadata": {},
     "output_type": "execute_result"
    }
   ],
   "source": [
    "df = pd.read_csv('../tests/TestDataset/metadata.csv')\n",
    "df.head()"
   ]
  },
  {
   "cell_type": "markdown",
   "id": "799b7ae7-619b-4ea2-a2cd-9e64c20ea58e",
   "metadata": {},
   "source": [
    "# Extract local features"
   ]
  },
  {
   "cell_type": "code",
   "execution_count": null,
   "id": "78b04526",
   "metadata": {},
   "outputs": [
    {
     "name": "stderr",
     "output_type": "stream",
     "text": [
      "100%|█████████████████████████████████████████████████████████████████| 4/4 [00:08<00:00,  2.22s/it]\n"
     ]
    }
   ],
   "source": [
    "extractor = SiftExtractor()\n",
    "output = extractor(dataset)\n",
    "\n",
    "assert len(output) == len(dataset)\n",
    "assert tuple(output.features[0]['keypoints'].shape) == (256, 2)\n",
    "assert tuple(output.features[0]['descriptors'].shape) == (256, 128)"
   ]
  },
  {
   "cell_type": "code",
   "execution_count": null,
   "id": "b5d4b46c",
   "metadata": {},
   "outputs": [
    {
     "name": "stdout",
     "output_type": "stream",
     "text": [
      "tensor([[0.0857, 0.0693, 0.0675,  ..., 0.0276, 0.0225, 0.0811],\n",
      "        [0.0904, 0.0943, 0.0219,  ..., 0.0694, 0.0310, 0.0694],\n",
      "        [0.0883, 0.0581, 0.0395,  ..., 0.0395, 0.0939, 0.0789],\n",
      "        ...,\n",
      "        [0.0884, 0.0884, 0.0884,  ..., 0.0884, 0.0884, 0.0884],\n",
      "        [0.0884, 0.0884, 0.0884,  ..., 0.0884, 0.0884, 0.0884],\n",
      "        [0.0884, 0.0884, 0.0884,  ..., 0.0884, 0.0884, 0.0884]])\n"
     ]
    }
   ],
   "source": [
    "# print(output.features[1]['keypoints'])\n",
    "print(output.features[1]['descriptors'])"
   ]
  },
  {
   "cell_type": "code",
   "execution_count": null,
   "id": "7421c360",
   "metadata": {},
   "outputs": [
    {
     "ename": "AttributeError",
     "evalue": "'list' object has no attribute 'shape'",
     "output_type": "error",
     "traceback": [
      "\u001b[31m---------------------------------------------------------------------------\u001b[39m",
      "\u001b[31mAttributeError\u001b[39m                            Traceback (most recent call last)",
      "\u001b[36mCell\u001b[39m\u001b[36m \u001b[39m\u001b[32mIn[4]\u001b[39m\u001b[32m, line 10\u001b[39m\n\u001b[32m      8\u001b[39m \u001b[38;5;66;03m# Apply t-SNE for dimensionality reduction\u001b[39;00m\n\u001b[32m      9\u001b[39m tsne = TSNE(n_components=\u001b[32m2\u001b[39m, random_state=\u001b[32m42\u001b[39m)\n\u001b[32m---> \u001b[39m\u001b[32m10\u001b[39m reduced_embeddings = \u001b[43mtsne\u001b[49m\u001b[43m.\u001b[49m\u001b[43mfit_transform\u001b[49m\u001b[43m(\u001b[49m\u001b[43membeddings\u001b[49m\u001b[43m)\u001b[49m\n\u001b[32m     12\u001b[39m \u001b[38;5;66;03m# Plot the reduced embeddings\u001b[39;00m\n\u001b[32m     13\u001b[39m plt.figure(figsize=(\u001b[32m8\u001b[39m, \u001b[32m6\u001b[39m))\n",
      "\u001b[36mFile \u001b[39m\u001b[32m~/phd/guppies/coding/wildlife-tools/.venv/lib/python3.11/site-packages/sklearn/utils/_set_output.py:319\u001b[39m, in \u001b[36m_wrap_method_output.<locals>.wrapped\u001b[39m\u001b[34m(self, X, *args, **kwargs)\u001b[39m\n\u001b[32m    317\u001b[39m \u001b[38;5;129m@wraps\u001b[39m(f)\n\u001b[32m    318\u001b[39m \u001b[38;5;28;01mdef\u001b[39;00m\u001b[38;5;250m \u001b[39m\u001b[34mwrapped\u001b[39m(\u001b[38;5;28mself\u001b[39m, X, *args, **kwargs):\n\u001b[32m--> \u001b[39m\u001b[32m319\u001b[39m     data_to_wrap = \u001b[43mf\u001b[49m\u001b[43m(\u001b[49m\u001b[38;5;28;43mself\u001b[39;49m\u001b[43m,\u001b[49m\u001b[43m \u001b[49m\u001b[43mX\u001b[49m\u001b[43m,\u001b[49m\u001b[43m \u001b[49m\u001b[43m*\u001b[49m\u001b[43margs\u001b[49m\u001b[43m,\u001b[49m\u001b[43m \u001b[49m\u001b[43m*\u001b[49m\u001b[43m*\u001b[49m\u001b[43mkwargs\u001b[49m\u001b[43m)\u001b[49m\n\u001b[32m    320\u001b[39m     \u001b[38;5;28;01mif\u001b[39;00m \u001b[38;5;28misinstance\u001b[39m(data_to_wrap, \u001b[38;5;28mtuple\u001b[39m):\n\u001b[32m    321\u001b[39m         \u001b[38;5;66;03m# only wrap the first output for cross decomposition\u001b[39;00m\n\u001b[32m    322\u001b[39m         return_tuple = (\n\u001b[32m    323\u001b[39m             _wrap_data_with_container(method, data_to_wrap[\u001b[32m0\u001b[39m], X, \u001b[38;5;28mself\u001b[39m),\n\u001b[32m    324\u001b[39m             *data_to_wrap[\u001b[32m1\u001b[39m:],\n\u001b[32m    325\u001b[39m         )\n",
      "\u001b[36mFile \u001b[39m\u001b[32m~/phd/guppies/coding/wildlife-tools/.venv/lib/python3.11/site-packages/sklearn/base.py:1389\u001b[39m, in \u001b[36m_fit_context.<locals>.decorator.<locals>.wrapper\u001b[39m\u001b[34m(estimator, *args, **kwargs)\u001b[39m\n\u001b[32m   1382\u001b[39m     estimator._validate_params()\n\u001b[32m   1384\u001b[39m \u001b[38;5;28;01mwith\u001b[39;00m config_context(\n\u001b[32m   1385\u001b[39m     skip_parameter_validation=(\n\u001b[32m   1386\u001b[39m         prefer_skip_nested_validation \u001b[38;5;129;01mor\u001b[39;00m global_skip_validation\n\u001b[32m   1387\u001b[39m     )\n\u001b[32m   1388\u001b[39m ):\n\u001b[32m-> \u001b[39m\u001b[32m1389\u001b[39m     \u001b[38;5;28;01mreturn\u001b[39;00m \u001b[43mfit_method\u001b[49m\u001b[43m(\u001b[49m\u001b[43mestimator\u001b[49m\u001b[43m,\u001b[49m\u001b[43m \u001b[49m\u001b[43m*\u001b[49m\u001b[43margs\u001b[49m\u001b[43m,\u001b[49m\u001b[43m \u001b[49m\u001b[43m*\u001b[49m\u001b[43m*\u001b[49m\u001b[43mkwargs\u001b[49m\u001b[43m)\u001b[49m\n",
      "\u001b[36mFile \u001b[39m\u001b[32m~/phd/guppies/coding/wildlife-tools/.venv/lib/python3.11/site-packages/sklearn/manifold/_t_sne.py:1177\u001b[39m, in \u001b[36mTSNE.fit_transform\u001b[39m\u001b[34m(self, X, y)\u001b[39m\n\u001b[32m   1174\u001b[39m \u001b[38;5;28;01melse\u001b[39;00m:\n\u001b[32m   1175\u001b[39m     \u001b[38;5;28mself\u001b[39m._max_iter = \u001b[38;5;28mself\u001b[39m.max_iter\n\u001b[32m-> \u001b[39m\u001b[32m1177\u001b[39m \u001b[38;5;28;43mself\u001b[39;49m\u001b[43m.\u001b[49m\u001b[43m_check_params_vs_input\u001b[49m\u001b[43m(\u001b[49m\u001b[43mX\u001b[49m\u001b[43m)\u001b[49m\n\u001b[32m   1178\u001b[39m embedding = \u001b[38;5;28mself\u001b[39m._fit(X)\n\u001b[32m   1179\u001b[39m \u001b[38;5;28mself\u001b[39m.embedding_ = embedding\n",
      "\u001b[36mFile \u001b[39m\u001b[32m~/phd/guppies/coding/wildlife-tools/.venv/lib/python3.11/site-packages/sklearn/manifold/_t_sne.py:861\u001b[39m, in \u001b[36mTSNE._check_params_vs_input\u001b[39m\u001b[34m(self, X)\u001b[39m\n\u001b[32m    860\u001b[39m \u001b[38;5;28;01mdef\u001b[39;00m\u001b[38;5;250m \u001b[39m\u001b[34m_check_params_vs_input\u001b[39m(\u001b[38;5;28mself\u001b[39m, X):\n\u001b[32m--> \u001b[39m\u001b[32m861\u001b[39m     \u001b[38;5;28;01mif\u001b[39;00m \u001b[38;5;28mself\u001b[39m.perplexity >= \u001b[43mX\u001b[49m\u001b[43m.\u001b[49m\u001b[43mshape\u001b[49m[\u001b[32m0\u001b[39m]:\n\u001b[32m    862\u001b[39m         \u001b[38;5;28;01mraise\u001b[39;00m \u001b[38;5;167;01mValueError\u001b[39;00m(\u001b[33m\"\u001b[39m\u001b[33mperplexity must be less than n_samples\u001b[39m\u001b[33m\"\u001b[39m)\n",
      "\u001b[31mAttributeError\u001b[39m: 'list' object has no attribute 'shape'"
     ]
    }
   ],
   "source": [
    "from sklearn.manifold import TSNE\n",
    "\n",
    "import matplotlib.pyplot as plt\n",
    "\n",
    "# Extract embeddings from the output\n",
    "embeddings = output.features\n",
    "\n",
    "# Apply t-SNE for dimensionality reduction\n",
    "tsne = TSNE(n_components=2, random_state=42)\n",
    "reduced_embeddings = tsne.fit_transform(embeddings)\n",
    "\n",
    "# Plot the reduced embeddings\n",
    "plt.figure(figsize=(8, 6))\n",
    "plt.scatter(reduced_embeddings[:, 0], reduced_embeddings[:, 1], alpha=0.7)\n",
    "plt.title(\"t-SNE Visualization of Embeddings\")\n",
    "plt.xlabel(\"Dimension 1\")\n",
    "plt.ylabel(\"Dimension 2\")\n",
    "plt.show()"
   ]
  },
  {
   "cell_type": "code",
   "execution_count": null,
   "id": "5f6bb73b",
   "metadata": {},
   "outputs": [
    {
     "name": "stdout",
     "output_type": "stream",
     "text": [
      "Downloading: \"https://github.com/magicleap/SuperGluePretrainedNetwork/raw/master/models/weights/superpoint_v1.pth\" to /Users/ash/.cache/torch/hub/checkpoints/superpoint_v1.pth\n"
     ]
    },
    {
     "name": "stderr",
     "output_type": "stream",
     "text": [
      "100%|██████████| 4.96M/4.96M [00:00<00:00, 36.1MB/s]\n",
      "100%|█████████████████████████████████████████████████████████████████| 4/4 [00:08<00:00,  2.24s/it]\n"
     ]
    }
   ],
   "source": [
    "extractor = SuperPointExtractor()\n",
    "output = extractor(dataset)\n",
    "\n",
    "assert len(output) == len(dataset)\n",
    "assert tuple(output.features[0]['keypoints'].shape) == (256, 2)\n",
    "assert tuple(output.features[0]['descriptors'].shape) == (256, 256)"
   ]
  },
  {
   "cell_type": "code",
   "execution_count": null,
   "id": "ff226994",
   "metadata": {},
   "outputs": [
    {
     "name": "stderr",
     "output_type": "stream",
     "text": [
      "100%|█████████████████████████████████████████████████████████████████| 4/4 [00:00<00:00,  9.59it/s]\n"
     ]
    }
   ],
   "source": [
    "extractor = AlikedExtractor()\n",
    "output = extractor(dataset)\n",
    "\n",
    "assert len(output) == len(dataset)\n",
    "assert tuple(output.features[0]['keypoints'].shape) == (256, 2)\n",
    "assert tuple(output.features[0]['descriptors'].shape) == (256, 128)"
   ]
  },
  {
   "cell_type": "code",
   "execution_count": null,
   "id": "ac1e189e",
   "metadata": {},
   "outputs": [
    {
     "name": "stderr",
     "output_type": "stream",
     "text": [
      "100%|█████████████████████████████████████████████████████████████████| 4/4 [00:00<00:00, 19.90it/s]\n"
     ]
    }
   ],
   "source": [
    "extractor = DiskExtractor()\n",
    "output = extractor(dataset)\n",
    "\n",
    "assert len(output) == len(dataset)\n",
    "assert tuple(output.features[0]['keypoints'].shape) == (256, 2)\n",
    "assert tuple(output.features[0]['descriptors'].shape) == (256, 128)"
   ]
  },
  {
   "cell_type": "markdown",
   "id": "ed509956-c5cf-418c-a29a-78f043482bc7",
   "metadata": {},
   "source": [
    "# Extract deep features"
   ]
  },
  {
   "cell_type": "code",
   "execution_count": 2,
   "id": "8d9da74f",
   "metadata": {},
   "outputs": [
    {
     "name": "stderr",
     "output_type": "stream",
     "text": [
      "100%|█████████████████████████████████████████████████████████████████| 1/1 [00:09<00:00,  9.19s/it]\n"
     ]
    }
   ],
   "source": [
    "backbone = timm.create_model('hf-hub:BVRA/MegaDescriptor-T-224', num_classes=0, pretrained=True)\n",
    "extractor = DeepFeatures(backbone)\n",
    "output = extractor(dataset)\n",
    "\n",
    "assert len(output) == len(dataset)\n",
    "assert tuple(output.features.shape) == (len(dataset), 768)"
   ]
  },
  {
   "cell_type": "code",
   "execution_count": 3,
   "id": "81e9ac29",
   "metadata": {},
   "outputs": [],
   "source": [
    "# Convert embeddings to NumPy array\n",
    "embeddings = output.features\n",
    "if isinstance(embeddings, torch.Tensor):\n",
    "    embeddings = embeddings.detach().cpu().numpy()\n",
    "\n",
    "# Extract labels\n",
    "labels = output.labels_string  # Assuming labels are stored here"
   ]
  },
  {
   "cell_type": "code",
   "execution_count": 4,
   "id": "0b76b88d",
   "metadata": {},
   "outputs": [
    {
     "name": "stdout",
     "output_type": "stream",
     "text": [
      "['a' 'a' 'b' 'b']\n",
      "(4, 768)\n"
     ]
    }
   ],
   "source": [
    "print(labels)\n",
    "print(embeddings.shape)"
   ]
  },
  {
   "cell_type": "code",
   "execution_count": 5,
   "id": "01a7d6cf",
   "metadata": {},
   "outputs": [],
   "source": [
    "from sklearn.metrics.pairwise import cosine_similarity\n",
    "\n",
    "# Compute the cosine similarity matrix\n",
    "similarity_matrix = cosine_similarity(embeddings)\n"
   ]
  },
  {
   "cell_type": "code",
   "execution_count": 6,
   "id": "8fe79ea6",
   "metadata": {},
   "outputs": [
    {
     "name": "stdout",
     "output_type": "stream",
     "text": [
      "Average similarity within the same identity: 0.5767\n",
      "Average similarity between different identities: 0.0419\n"
     ]
    }
   ],
   "source": [
    "from collections import defaultdict\n",
    "\n",
    "# Initialize dictionaries to hold similarities\n",
    "same_identity_sims = defaultdict(list)\n",
    "different_identity_sims = defaultdict(list)\n",
    "\n",
    "num_embeddings = len(embeddings)\n",
    "\n",
    "for i in range(num_embeddings):\n",
    "    for j in range(i + 1, num_embeddings):\n",
    "        sim = similarity_matrix[i][j]\n",
    "        if labels[i] == labels[j]:\n",
    "            same_identity_sims[labels[i]].append(sim)\n",
    "        else:\n",
    "            key = f\"{labels[i]} vs {labels[j]}\"\n",
    "            different_identity_sims[key].append(sim)\n",
    "\n",
    "# Compute average similarities\n",
    "avg_same_identity_sim = np.mean([np.mean(sims) for sims in same_identity_sims.values()])\n",
    "avg_different_identity_sim = np.mean([np.mean(sims) for sims in different_identity_sims.values()])\n",
    "\n",
    "print(f\"Average similarity within the same identity: {avg_same_identity_sim:.4f}\")\n",
    "print(f\"Average similarity between different identities: {avg_different_identity_sim:.4f}\")\n"
   ]
  },
  {
   "cell_type": "code",
   "execution_count": 12,
   "id": "ff68b833",
   "metadata": {},
   "outputs": [
    {
     "name": "stdout",
     "output_type": "stream",
     "text": [
      "defaultdict(<class 'list'>, {'a': [np.float32(0.7651534)], 'b': [np.float32(0.38824427)]})\n",
      "defaultdict(<class 'list'>, {'a vs b': [np.float32(0.109083086), np.float32(-0.010203343), np.float32(0.01099782), np.float32(0.05778585)]})\n"
     ]
    }
   ],
   "source": [
    "print(same_identity_sims)\n",
    "print(different_identity_sims)"
   ]
  },
  {
   "cell_type": "code",
   "execution_count": 7,
   "id": "ef5dc4d0",
   "metadata": {},
   "outputs": [
    {
     "data": {
      "image/png": "[encoded data removed]",
      "text/plain": [
       "<Figure size 1000x800 with 2 Axes>"
      ]
     },
     "metadata": {},
     "output_type": "display_data"
    }
   ],
   "source": [
    "import matplotlib.pyplot as plt\n",
    "import seaborn as sns\n",
    "\n",
    "# Create a heatmap of the similarity matrix\n",
    "plt.figure(figsize=(10, 8))\n",
    "sns.heatmap(similarity_matrix, xticklabels=labels, yticklabels=labels, cmap='viridis')\n",
    "plt.title('Pairwise Cosine Similarity Heatmap')\n",
    "plt.xlabel('Image Index')\n",
    "plt.ylabel('Image Index')\n",
    "plt.show()\n"
   ]
  },
  {
   "cell_type": "code",
   "execution_count": 8,
   "id": "51934a3f",
   "metadata": {},
   "outputs": [],
   "source": [
    "from sklearn.manifold import TSNE\n",
    "\n",
    "# Determine the number of samples\n",
    "n_samples = embeddings.shape[0]\n",
    "\n",
    "# Set perplexity to a value less than n_samples\n",
    "perplexity_value = min(5, n_samples - 1)\n",
    "\n",
    "# Initialize and fit t-SNE\n",
    "tsne = TSNE(n_components=2, random_state=42, perplexity=perplexity_value)\n",
    "embeddings_2d = tsne.fit_transform(embeddings)\n"
   ]
  },
  {
   "cell_type": "code",
   "execution_count": 9,
   "id": "eb8cdcd1",
   "metadata": {},
   "outputs": [
    {
     "data": {
      "image/png": "[encoded data removed]",
      "text/plain": [
       "<Figure size 1000x800 with 1 Axes>"
      ]
     },
     "metadata": {},
     "output_type": "display_data"
    }
   ],
   "source": [
    "import matplotlib.pyplot as plt\n",
    "\n",
    "plt.figure(figsize=(10, 8))\n",
    "unique_labels = set(labels)\n",
    "for label in unique_labels:\n",
    "    indices = [i for i, l in enumerate(labels) if l == label]\n",
    "    plt.scatter(embeddings_2d[indices, 0], embeddings_2d[indices, 1], label=label)\n",
    "\n",
    "plt.legend()\n",
    "plt.title('t-SNE Visualization of Embeddings')\n",
    "plt.xlabel('Component 1')\n",
    "plt.ylabel('Component 2')\n",
    "plt.show()\n"
   ]
  },
  {
   "cell_type": "code",
   "execution_count": 10,
   "id": "dab327a9",
   "metadata": {},
   "outputs": [
    {
     "name": "stdout",
     "output_type": "stream",
     "text": [
      "[[ 0.         15.05763108 35.27242825 32.63103204]\n",
      " [15.05763108  0.         37.58558547 32.12597857]\n",
      " [35.27242825 37.58558547  0.         30.71924729]\n",
      " [32.63103204 32.12597857 30.71924729  0.        ]]\n"
     ]
    }
   ],
   "source": [
    "from scipy.spatial.distance import cdist\n",
    "\n",
    "# Calculate pairwise distances\n",
    "distances = cdist(embeddings, embeddings, metric='euclidean')\n",
    "\n",
    "print(distances)"
   ]
  },
  {
   "cell_type": "code",
   "execution_count": 11,
   "id": "6f8e6db0",
   "metadata": {},
   "outputs": [
    {
     "name": "stdout",
     "output_type": "stream",
     "text": [
      "[[0.         0.4006225  0.93845627 1.        ]\n",
      " [0.42689522 0.         1.         0.9845223 ]\n",
      " [1.         1.         0.         0.94141207]\n",
      " [0.92511442 0.854742   0.81731459 0.        ]]\n"
     ]
    }
   ],
   "source": [
    "from sklearn.preprocessing import MinMaxScaler\n",
    "\n",
    "# Normalize distances using Min-Max scaling\n",
    "scaler = MinMaxScaler()\n",
    "normalized_distances = scaler.fit_transform(distances)\n",
    "\n",
    "print(normalized_distances)\n",
    "# can see that identity a images are close, b are kinda far. but a and b are far from one another!"
   ]
  },
  {
   "cell_type": "code",
   "execution_count": 13,
   "id": "f603e4c8",
   "metadata": {},
   "outputs": [
    {
     "name": "stdout",
     "output_type": "stream",
     "text": [
      "Average normalized distance within the same identity: 0.3233\n",
      "Average normalized distance between different identities: 0.9629\n"
     ]
    }
   ],
   "source": [
    "avg_same = np.mean([normalized_distances[i][j] for i in range(len(labels)) for j in range(len(labels)) if labels[i] == labels[j]])\n",
    "avg_diff = np.mean([normalized_distances[i][j] for i in range(len(labels)) for j in range(len(labels)) if labels[i] != labels[j]])\n",
    "print(f\"Average normalized distance within the same identity: {avg_same:.4f}\")\n",
    "print(f\"Average normalized distance between different identities: {avg_diff:.4f}\")"
   ]
  }
 ],
 "metadata": {
  "kernelspec": {
   "display_name": ".venv",
   "language": "python",
   "name": "python3"
  },
  "language_info": {
   "codemirror_mode": {
    "name": "ipython",
    "version": 3
   },
   "file_extension": ".py",
   "mimetype": "text/x-python",
   "name": "python",
   "nbconvert_exporter": "python",
   "pygments_lexer": "ipython3",
   "version": "3.11.12"
  }
 },
 "nbformat": 4,
 "nbformat_minor": 5
}
